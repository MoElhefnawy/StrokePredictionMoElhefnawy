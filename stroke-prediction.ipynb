{
 "cells": [
  {
   "cell_type": "markdown",
   "id": "42b582cb",
   "metadata": {
    "papermill": {
     "duration": 0.021852,
     "end_time": "2024-05-05T13:29:03.581569",
     "exception": false,
     "start_time": "2024-05-05T13:29:03.559717",
     "status": "completed"
    },
    "tags": []
   },
   "source": [
    "<div style=\"width:100%;text-align: center; background-color:#white;\"> <img align=middle src=\"https://croi.ie/wp-content/uploads/2022/10/stroke-img-01.jpg\" alt=\"Decision Tree\" >"
   ]
  },
  {
   "cell_type": "markdown",
   "id": "40c4980e",
   "metadata": {
    "papermill": {
     "duration": 0.021426,
     "end_time": "2024-05-05T13:29:03.624368",
     "exception": false,
     "start_time": "2024-05-05T13:29:03.602942",
     "status": "completed"
    },
    "tags": []
   },
   "source": [
    "<a id='top'></a>\n",
    "<div class=\"list-group\" id=\"list-tab\" role=\"tablist\">\n",
    "<p style=\"background-color:#9D5353 ;font-family:newtimeroman;color:white;font-size:300%;text-align:center;border-radius:60px 1px;\">  Content  </p>\n",
    " \n",
    " <ul style = color:#CE6666;font-size:190%;font-family:Serif;>\n",
    "    <li> Import librarries for Analyse the Data</li>\n",
    "    <li> Read dataset</li>\n",
    "    <li> Get information about data</li>\n",
    "    <li> Data cleaning</li>\n",
    "    <li> Import librarries Of Machine Learning</li>\n",
    "    <li> Data preprocessing</li>\n",
    "    <li> Build Machine Learning Models</li>\n",
    "</ul>"
   ]
  },
  {
   "cell_type": "markdown",
   "id": "de632e2f",
   "metadata": {
    "papermill": {
     "duration": 0.021009,
     "end_time": "2024-05-05T13:29:03.667154",
     "exception": false,
     "start_time": "2024-05-05T13:29:03.646145",
     "status": "completed"
    },
    "tags": []
   },
   "source": [
    "<div style=\"color:white;\n",
    "           display:fill;\n",
    "           border-radius:5px;\n",
    "           background-color:#F7C7D7;\n",
    "           font-size:200%;\n",
    "           font-family:Serif;\n",
    "           letter-spacing:0.5px\">\n",
    "\n",
    "<p style=\"padding: 10px;\n",
    "          color:#23494F;\n",
    "          font-size:120%;\n",
    "          text-align:center;\">\n",
    "Import libraries\n",
    "</p>\n",
    "</div>"
   ]
  },
  {
   "cell_type": "code",
   "execution_count": 1,
   "id": "0914c000",
   "metadata": {
    "execution": {
     "iopub.execute_input": "2024-05-05T13:29:03.709632Z",
     "iopub.status.busy": "2024-05-05T13:29:03.709267Z",
     "iopub.status.idle": "2024-05-05T13:29:05.601637Z",
     "shell.execute_reply": "2024-05-05T13:29:05.600559Z"
    },
    "papermill": {
     "duration": 1.916476,
     "end_time": "2024-05-05T13:29:05.604135",
     "exception": false,
     "start_time": "2024-05-05T13:29:03.687659",
     "status": "completed"
    },
    "tags": []
   },
   "outputs": [],
   "source": [
    "import numpy as np \n",
    "import pandas as pd \n",
    "import matplotlib.pyplot as plt\n",
    "import seaborn as sns\n",
    "import plotly.express as px"
   ]
  },
  {
   "cell_type": "markdown",
   "id": "dbe3f89c",
   "metadata": {
    "papermill": {
     "duration": 0.02114,
     "end_time": "2024-05-05T13:29:05.646874",
     "exception": false,
     "start_time": "2024-05-05T13:29:05.625734",
     "status": "completed"
    },
    "tags": []
   },
   "source": [
    "--------------------\n",
    "<div style=\"color:white;\n",
    "           display:fill;\n",
    "           border-radius:5px;\n",
    "           background-color:#F7C7D7;\n",
    "           font-size:200%;\n",
    "           font-family:Serif;\n",
    "           letter-spacing:0.5px\">\n",
    "\n",
    "<p style=\"padding: 10px;\n",
    "          color:#23494F;\n",
    "          font-size:120%;\n",
    "          text-align:center;\">\n",
    "Read Data\n",
    "</p>\n",
    "</div>"
   ]
  },
  {
   "cell_type": "code",
   "execution_count": 2,
   "id": "34c2098d",
   "metadata": {
    "execution": {
     "iopub.execute_input": "2024-05-05T13:29:05.690952Z",
     "iopub.status.busy": "2024-05-05T13:29:05.690608Z",
     "iopub.status.idle": "2024-05-05T13:29:05.723520Z",
     "shell.execute_reply": "2024-05-05T13:29:05.722559Z"
    },
    "papermill": {
     "duration": 0.05726,
     "end_time": "2024-05-05T13:29:05.725640",
     "exception": false,
     "start_time": "2024-05-05T13:29:05.668380",
     "status": "completed"
    },
    "tags": []
   },
   "outputs": [],
   "source": [
    "df = pd.read_csv('/kaggle/input/stroke-prediction-dataset/healthcare-dataset-stroke-data.csv')"
   ]
  },
  {
   "cell_type": "markdown",
   "id": "3ecd0851",
   "metadata": {
    "papermill": {
     "duration": 0.021506,
     "end_time": "2024-05-05T13:29:05.768494",
     "exception": false,
     "start_time": "2024-05-05T13:29:05.746988",
     "status": "completed"
    },
    "tags": []
   },
   "source": [
    "----------------------\n",
    "<div style=\"color:white;\n",
    "           display:fill;\n",
    "           border-radius:5px;\n",
    "           background-color:#F7C7D7;\n",
    "           font-size:200%;\n",
    "           font-family:Serif;\n",
    "           letter-spacing:0.5px\">\n",
    "\n",
    "<p style=\"padding: 10px;\n",
    "          color:#23494F;\n",
    "          font-size:120%;\n",
    "          text-align:center;\">\n",
    "Information About Data\n",
    "</p>\n",
    "</div>"
   ]
  },
  {
   "cell_type": "code",
   "execution_count": 3,
   "id": "f5e35bb1",
   "metadata": {
    "execution": {
     "iopub.execute_input": "2024-05-05T13:29:05.811090Z",
     "iopub.status.busy": "2024-05-05T13:29:05.810777Z",
     "iopub.status.idle": "2024-05-05T13:29:05.834004Z",
     "shell.execute_reply": "2024-05-05T13:29:05.833203Z"
    },
    "papermill": {
     "duration": 0.046772,
     "end_time": "2024-05-05T13:29:05.836171",
     "exception": false,
     "start_time": "2024-05-05T13:29:05.789399",
     "status": "completed"
    },
    "tags": []
   },
   "outputs": [
    {
     "data": {
      "text/html": [
       "<div>\n",
       "<style scoped>\n",
       "    .dataframe tbody tr th:only-of-type {\n",
       "        vertical-align: middle;\n",
       "    }\n",
       "\n",
       "    .dataframe tbody tr th {\n",
       "        vertical-align: top;\n",
       "    }\n",
       "\n",
       "    .dataframe thead th {\n",
       "        text-align: right;\n",
       "    }\n",
       "</style>\n",
       "<table border=\"1\" class=\"dataframe\">\n",
       "  <thead>\n",
       "    <tr style=\"text-align: right;\">\n",
       "      <th></th>\n",
       "      <th>id</th>\n",
       "      <th>gender</th>\n",
       "      <th>age</th>\n",
       "      <th>hypertension</th>\n",
       "      <th>heart_disease</th>\n",
       "      <th>ever_married</th>\n",
       "      <th>work_type</th>\n",
       "      <th>Residence_type</th>\n",
       "      <th>avg_glucose_level</th>\n",
       "      <th>bmi</th>\n",
       "      <th>smoking_status</th>\n",
       "      <th>stroke</th>\n",
       "    </tr>\n",
       "  </thead>\n",
       "  <tbody>\n",
       "    <tr>\n",
       "      <th>0</th>\n",
       "      <td>9046</td>\n",
       "      <td>Male</td>\n",
       "      <td>67.0</td>\n",
       "      <td>0</td>\n",
       "      <td>1</td>\n",
       "      <td>Yes</td>\n",
       "      <td>Private</td>\n",
       "      <td>Urban</td>\n",
       "      <td>228.69</td>\n",
       "      <td>36.6</td>\n",
       "      <td>formerly smoked</td>\n",
       "      <td>1</td>\n",
       "    </tr>\n",
       "    <tr>\n",
       "      <th>1</th>\n",
       "      <td>51676</td>\n",
       "      <td>Female</td>\n",
       "      <td>61.0</td>\n",
       "      <td>0</td>\n",
       "      <td>0</td>\n",
       "      <td>Yes</td>\n",
       "      <td>Self-employed</td>\n",
       "      <td>Rural</td>\n",
       "      <td>202.21</td>\n",
       "      <td>NaN</td>\n",
       "      <td>never smoked</td>\n",
       "      <td>1</td>\n",
       "    </tr>\n",
       "    <tr>\n",
       "      <th>2</th>\n",
       "      <td>31112</td>\n",
       "      <td>Male</td>\n",
       "      <td>80.0</td>\n",
       "      <td>0</td>\n",
       "      <td>1</td>\n",
       "      <td>Yes</td>\n",
       "      <td>Private</td>\n",
       "      <td>Rural</td>\n",
       "      <td>105.92</td>\n",
       "      <td>32.5</td>\n",
       "      <td>never smoked</td>\n",
       "      <td>1</td>\n",
       "    </tr>\n",
       "    <tr>\n",
       "      <th>3</th>\n",
       "      <td>60182</td>\n",
       "      <td>Female</td>\n",
       "      <td>49.0</td>\n",
       "      <td>0</td>\n",
       "      <td>0</td>\n",
       "      <td>Yes</td>\n",
       "      <td>Private</td>\n",
       "      <td>Urban</td>\n",
       "      <td>171.23</td>\n",
       "      <td>34.4</td>\n",
       "      <td>smokes</td>\n",
       "      <td>1</td>\n",
       "    </tr>\n",
       "    <tr>\n",
       "      <th>4</th>\n",
       "      <td>1665</td>\n",
       "      <td>Female</td>\n",
       "      <td>79.0</td>\n",
       "      <td>1</td>\n",
       "      <td>0</td>\n",
       "      <td>Yes</td>\n",
       "      <td>Self-employed</td>\n",
       "      <td>Rural</td>\n",
       "      <td>174.12</td>\n",
       "      <td>24.0</td>\n",
       "      <td>never smoked</td>\n",
       "      <td>1</td>\n",
       "    </tr>\n",
       "  </tbody>\n",
       "</table>\n",
       "</div>"
      ],
      "text/plain": [
       "      id  gender   age  hypertension  heart_disease ever_married  \\\n",
       "0   9046    Male  67.0             0              1          Yes   \n",
       "1  51676  Female  61.0             0              0          Yes   \n",
       "2  31112    Male  80.0             0              1          Yes   \n",
       "3  60182  Female  49.0             0              0          Yes   \n",
       "4   1665  Female  79.0             1              0          Yes   \n",
       "\n",
       "       work_type Residence_type  avg_glucose_level   bmi   smoking_status  \\\n",
       "0        Private          Urban             228.69  36.6  formerly smoked   \n",
       "1  Self-employed          Rural             202.21   NaN     never smoked   \n",
       "2        Private          Rural             105.92  32.5     never smoked   \n",
       "3        Private          Urban             171.23  34.4           smokes   \n",
       "4  Self-employed          Rural             174.12  24.0     never smoked   \n",
       "\n",
       "   stroke  \n",
       "0       1  \n",
       "1       1  \n",
       "2       1  \n",
       "3       1  \n",
       "4       1  "
      ]
     },
     "execution_count": 3,
     "metadata": {},
     "output_type": "execute_result"
    }
   ],
   "source": [
    "df.head()"
   ]
  },
  {
   "cell_type": "markdown",
   "id": "b0a5bdb4",
   "metadata": {
    "papermill": {
     "duration": 0.02128,
     "end_time": "2024-05-05T13:29:05.878659",
     "exception": false,
     "start_time": "2024-05-05T13:29:05.857379",
     "status": "completed"
    },
    "tags": []
   },
   "source": [
    "---------------------"
   ]
  },
  {
   "cell_type": "code",
   "execution_count": 4,
   "id": "70ed79f1",
   "metadata": {
    "execution": {
     "iopub.execute_input": "2024-05-05T13:29:05.922612Z",
     "iopub.status.busy": "2024-05-05T13:29:05.921786Z",
     "iopub.status.idle": "2024-05-05T13:29:05.941767Z",
     "shell.execute_reply": "2024-05-05T13:29:05.940839Z"
    },
    "papermill": {
     "duration": 0.044063,
     "end_time": "2024-05-05T13:29:05.943776",
     "exception": false,
     "start_time": "2024-05-05T13:29:05.899713",
     "status": "completed"
    },
    "tags": []
   },
   "outputs": [
    {
     "data": {
      "text/html": [
       "<div>\n",
       "<style scoped>\n",
       "    .dataframe tbody tr th:only-of-type {\n",
       "        vertical-align: middle;\n",
       "    }\n",
       "\n",
       "    .dataframe tbody tr th {\n",
       "        vertical-align: top;\n",
       "    }\n",
       "\n",
       "    .dataframe thead th {\n",
       "        text-align: right;\n",
       "    }\n",
       "</style>\n",
       "<table border=\"1\" class=\"dataframe\">\n",
       "  <thead>\n",
       "    <tr style=\"text-align: right;\">\n",
       "      <th></th>\n",
       "      <th>id</th>\n",
       "      <th>gender</th>\n",
       "      <th>age</th>\n",
       "      <th>hypertension</th>\n",
       "      <th>heart_disease</th>\n",
       "      <th>ever_married</th>\n",
       "      <th>work_type</th>\n",
       "      <th>Residence_type</th>\n",
       "      <th>avg_glucose_level</th>\n",
       "      <th>bmi</th>\n",
       "      <th>smoking_status</th>\n",
       "      <th>stroke</th>\n",
       "    </tr>\n",
       "  </thead>\n",
       "  <tbody>\n",
       "    <tr>\n",
       "      <th>2360</th>\n",
       "      <td>1505</td>\n",
       "      <td>Male</td>\n",
       "      <td>71.0</td>\n",
       "      <td>0</td>\n",
       "      <td>1</td>\n",
       "      <td>Yes</td>\n",
       "      <td>Self-employed</td>\n",
       "      <td>Rural</td>\n",
       "      <td>101.13</td>\n",
       "      <td>35.9</td>\n",
       "      <td>formerly smoked</td>\n",
       "      <td>0</td>\n",
       "    </tr>\n",
       "    <tr>\n",
       "      <th>1190</th>\n",
       "      <td>47585</td>\n",
       "      <td>Female</td>\n",
       "      <td>31.0</td>\n",
       "      <td>0</td>\n",
       "      <td>0</td>\n",
       "      <td>No</td>\n",
       "      <td>Self-employed</td>\n",
       "      <td>Urban</td>\n",
       "      <td>62.68</td>\n",
       "      <td>35.8</td>\n",
       "      <td>never smoked</td>\n",
       "      <td>0</td>\n",
       "    </tr>\n",
       "    <tr>\n",
       "      <th>2532</th>\n",
       "      <td>20112</td>\n",
       "      <td>Male</td>\n",
       "      <td>79.0</td>\n",
       "      <td>0</td>\n",
       "      <td>1</td>\n",
       "      <td>Yes</td>\n",
       "      <td>Private</td>\n",
       "      <td>Urban</td>\n",
       "      <td>213.38</td>\n",
       "      <td>NaN</td>\n",
       "      <td>Unknown</td>\n",
       "      <td>0</td>\n",
       "    </tr>\n",
       "    <tr>\n",
       "      <th>1997</th>\n",
       "      <td>60139</td>\n",
       "      <td>Female</td>\n",
       "      <td>32.0</td>\n",
       "      <td>0</td>\n",
       "      <td>0</td>\n",
       "      <td>Yes</td>\n",
       "      <td>Self-employed</td>\n",
       "      <td>Rural</td>\n",
       "      <td>128.72</td>\n",
       "      <td>26.3</td>\n",
       "      <td>smokes</td>\n",
       "      <td>0</td>\n",
       "    </tr>\n",
       "    <tr>\n",
       "      <th>4572</th>\n",
       "      <td>20237</td>\n",
       "      <td>Male</td>\n",
       "      <td>15.0</td>\n",
       "      <td>0</td>\n",
       "      <td>0</td>\n",
       "      <td>No</td>\n",
       "      <td>Private</td>\n",
       "      <td>Urban</td>\n",
       "      <td>104.90</td>\n",
       "      <td>27.4</td>\n",
       "      <td>never smoked</td>\n",
       "      <td>0</td>\n",
       "    </tr>\n",
       "  </tbody>\n",
       "</table>\n",
       "</div>"
      ],
      "text/plain": [
       "         id  gender   age  hypertension  heart_disease ever_married  \\\n",
       "2360   1505    Male  71.0             0              1          Yes   \n",
       "1190  47585  Female  31.0             0              0           No   \n",
       "2532  20112    Male  79.0             0              1          Yes   \n",
       "1997  60139  Female  32.0             0              0          Yes   \n",
       "4572  20237    Male  15.0             0              0           No   \n",
       "\n",
       "          work_type Residence_type  avg_glucose_level   bmi   smoking_status  \\\n",
       "2360  Self-employed          Rural             101.13  35.9  formerly smoked   \n",
       "1190  Self-employed          Urban              62.68  35.8     never smoked   \n",
       "2532        Private          Urban             213.38   NaN          Unknown   \n",
       "1997  Self-employed          Rural             128.72  26.3           smokes   \n",
       "4572        Private          Urban             104.90  27.4     never smoked   \n",
       "\n",
       "      stroke  \n",
       "2360       0  \n",
       "1190       0  \n",
       "2532       0  \n",
       "1997       0  \n",
       "4572       0  "
      ]
     },
     "execution_count": 4,
     "metadata": {},
     "output_type": "execute_result"
    }
   ],
   "source": [
    "df.sample(5)"
   ]
  },
  {
   "cell_type": "markdown",
   "id": "a3f29474",
   "metadata": {
    "papermill": {
     "duration": 0.021192,
     "end_time": "2024-05-05T13:29:05.986609",
     "exception": false,
     "start_time": "2024-05-05T13:29:05.965417",
     "status": "completed"
    },
    "tags": []
   },
   "source": [
    "-----------------"
   ]
  },
  {
   "cell_type": "code",
   "execution_count": 5,
   "id": "0471113f",
   "metadata": {
    "execution": {
     "iopub.execute_input": "2024-05-05T13:29:06.031377Z",
     "iopub.status.busy": "2024-05-05T13:29:06.031081Z",
     "iopub.status.idle": "2024-05-05T13:29:06.058886Z",
     "shell.execute_reply": "2024-05-05T13:29:06.057683Z"
    },
    "papermill": {
     "duration": 0.052861,
     "end_time": "2024-05-05T13:29:06.060992",
     "exception": false,
     "start_time": "2024-05-05T13:29:06.008131",
     "status": "completed"
    },
    "tags": []
   },
   "outputs": [
    {
     "name": "stdout",
     "output_type": "stream",
     "text": [
      "<class 'pandas.core.frame.DataFrame'>\n",
      "RangeIndex: 5110 entries, 0 to 5109\n",
      "Data columns (total 12 columns):\n",
      " #   Column             Non-Null Count  Dtype  \n",
      "---  ------             --------------  -----  \n",
      " 0   id                 5110 non-null   int64  \n",
      " 1   gender             5110 non-null   object \n",
      " 2   age                5110 non-null   float64\n",
      " 3   hypertension       5110 non-null   int64  \n",
      " 4   heart_disease      5110 non-null   int64  \n",
      " 5   ever_married       5110 non-null   object \n",
      " 6   work_type          5110 non-null   object \n",
      " 7   Residence_type     5110 non-null   object \n",
      " 8   avg_glucose_level  5110 non-null   float64\n",
      " 9   bmi                4909 non-null   float64\n",
      " 10  smoking_status     5110 non-null   object \n",
      " 11  stroke             5110 non-null   int64  \n",
      "dtypes: float64(3), int64(4), object(5)\n",
      "memory usage: 479.2+ KB\n"
     ]
    }
   ],
   "source": [
    "df.info() "
   ]
  },
  {
   "cell_type": "code",
   "execution_count": 6,
   "id": "e86c9a3d",
   "metadata": {
    "execution": {
     "iopub.execute_input": "2024-05-05T13:29:06.106336Z",
     "iopub.status.busy": "2024-05-05T13:29:06.106038Z",
     "iopub.status.idle": "2024-05-05T13:29:06.141025Z",
     "shell.execute_reply": "2024-05-05T13:29:06.140119Z"
    },
    "papermill": {
     "duration": 0.059628,
     "end_time": "2024-05-05T13:29:06.143127",
     "exception": false,
     "start_time": "2024-05-05T13:29:06.083499",
     "status": "completed"
    },
    "tags": []
   },
   "outputs": [
    {
     "data": {
      "text/html": [
       "<div>\n",
       "<style scoped>\n",
       "    .dataframe tbody tr th:only-of-type {\n",
       "        vertical-align: middle;\n",
       "    }\n",
       "\n",
       "    .dataframe tbody tr th {\n",
       "        vertical-align: top;\n",
       "    }\n",
       "\n",
       "    .dataframe thead th {\n",
       "        text-align: right;\n",
       "    }\n",
       "</style>\n",
       "<table border=\"1\" class=\"dataframe\">\n",
       "  <thead>\n",
       "    <tr style=\"text-align: right;\">\n",
       "      <th></th>\n",
       "      <th>id</th>\n",
       "      <th>age</th>\n",
       "      <th>hypertension</th>\n",
       "      <th>heart_disease</th>\n",
       "      <th>avg_glucose_level</th>\n",
       "      <th>bmi</th>\n",
       "      <th>stroke</th>\n",
       "    </tr>\n",
       "  </thead>\n",
       "  <tbody>\n",
       "    <tr>\n",
       "      <th>count</th>\n",
       "      <td>5110.000000</td>\n",
       "      <td>5110.000000</td>\n",
       "      <td>5110.000000</td>\n",
       "      <td>5110.000000</td>\n",
       "      <td>5110.000000</td>\n",
       "      <td>4909.000000</td>\n",
       "      <td>5110.000000</td>\n",
       "    </tr>\n",
       "    <tr>\n",
       "      <th>mean</th>\n",
       "      <td>36517.829354</td>\n",
       "      <td>43.226614</td>\n",
       "      <td>0.097456</td>\n",
       "      <td>0.054012</td>\n",
       "      <td>106.147677</td>\n",
       "      <td>28.893237</td>\n",
       "      <td>0.048728</td>\n",
       "    </tr>\n",
       "    <tr>\n",
       "      <th>std</th>\n",
       "      <td>21161.721625</td>\n",
       "      <td>22.612647</td>\n",
       "      <td>0.296607</td>\n",
       "      <td>0.226063</td>\n",
       "      <td>45.283560</td>\n",
       "      <td>7.854067</td>\n",
       "      <td>0.215320</td>\n",
       "    </tr>\n",
       "    <tr>\n",
       "      <th>min</th>\n",
       "      <td>67.000000</td>\n",
       "      <td>0.080000</td>\n",
       "      <td>0.000000</td>\n",
       "      <td>0.000000</td>\n",
       "      <td>55.120000</td>\n",
       "      <td>10.300000</td>\n",
       "      <td>0.000000</td>\n",
       "    </tr>\n",
       "    <tr>\n",
       "      <th>25%</th>\n",
       "      <td>17741.250000</td>\n",
       "      <td>25.000000</td>\n",
       "      <td>0.000000</td>\n",
       "      <td>0.000000</td>\n",
       "      <td>77.245000</td>\n",
       "      <td>23.500000</td>\n",
       "      <td>0.000000</td>\n",
       "    </tr>\n",
       "    <tr>\n",
       "      <th>50%</th>\n",
       "      <td>36932.000000</td>\n",
       "      <td>45.000000</td>\n",
       "      <td>0.000000</td>\n",
       "      <td>0.000000</td>\n",
       "      <td>91.885000</td>\n",
       "      <td>28.100000</td>\n",
       "      <td>0.000000</td>\n",
       "    </tr>\n",
       "    <tr>\n",
       "      <th>75%</th>\n",
       "      <td>54682.000000</td>\n",
       "      <td>61.000000</td>\n",
       "      <td>0.000000</td>\n",
       "      <td>0.000000</td>\n",
       "      <td>114.090000</td>\n",
       "      <td>33.100000</td>\n",
       "      <td>0.000000</td>\n",
       "    </tr>\n",
       "    <tr>\n",
       "      <th>max</th>\n",
       "      <td>72940.000000</td>\n",
       "      <td>82.000000</td>\n",
       "      <td>1.000000</td>\n",
       "      <td>1.000000</td>\n",
       "      <td>271.740000</td>\n",
       "      <td>97.600000</td>\n",
       "      <td>1.000000</td>\n",
       "    </tr>\n",
       "  </tbody>\n",
       "</table>\n",
       "</div>"
      ],
      "text/plain": [
       "                 id          age  hypertension  heart_disease  \\\n",
       "count   5110.000000  5110.000000   5110.000000    5110.000000   \n",
       "mean   36517.829354    43.226614      0.097456       0.054012   \n",
       "std    21161.721625    22.612647      0.296607       0.226063   \n",
       "min       67.000000     0.080000      0.000000       0.000000   \n",
       "25%    17741.250000    25.000000      0.000000       0.000000   \n",
       "50%    36932.000000    45.000000      0.000000       0.000000   \n",
       "75%    54682.000000    61.000000      0.000000       0.000000   \n",
       "max    72940.000000    82.000000      1.000000       1.000000   \n",
       "\n",
       "       avg_glucose_level          bmi       stroke  \n",
       "count        5110.000000  4909.000000  5110.000000  \n",
       "mean          106.147677    28.893237     0.048728  \n",
       "std            45.283560     7.854067     0.215320  \n",
       "min            55.120000    10.300000     0.000000  \n",
       "25%            77.245000    23.500000     0.000000  \n",
       "50%            91.885000    28.100000     0.000000  \n",
       "75%           114.090000    33.100000     0.000000  \n",
       "max           271.740000    97.600000     1.000000  "
      ]
     },
     "execution_count": 6,
     "metadata": {},
     "output_type": "execute_result"
    }
   ],
   "source": [
    "df.describe()"
   ]
  },
  {
   "cell_type": "markdown",
   "id": "88c6d344",
   "metadata": {
    "papermill": {
     "duration": 0.021422,
     "end_time": "2024-05-05T13:29:06.186707",
     "exception": false,
     "start_time": "2024-05-05T13:29:06.165285",
     "status": "completed"
    },
    "tags": []
   },
   "source": [
    "-----------------\n",
    "<div style=\"color:white;\n",
    "           display:fill;\n",
    "           border-radius:5px;\n",
    "           background-color:#F7C7D7;\n",
    "           font-size:200%;\n",
    "           font-family:Serif;\n",
    "           letter-spacing:0.5px\">\n",
    "\n",
    "<p style=\"padding: 10px;\n",
    "          color:#23494F;\n",
    "          font-size:120%;\n",
    "          text-align:center;\">\n",
    "Data Cleaning\n",
    "</p>\n",
    "</div>"
   ]
  },
  {
   "cell_type": "markdown",
   "id": "0412caf8",
   "metadata": {
    "papermill": {
     "duration": 0.021834,
     "end_time": "2024-05-05T13:29:06.231897",
     "exception": false,
     "start_time": "2024-05-05T13:29:06.210063",
     "status": "completed"
    },
    "tags": []
   },
   "source": [
    "-----------------------\n",
    "<p style=\"background-color:#CA90A4;color:#051C20;font-size:215%;letter-spacing:0.5px;font-family:Bahnschrift Light;\">   Remove Unnecessary Columns </p>"
   ]
  },
  {
   "cell_type": "code",
   "execution_count": 7,
   "id": "2f402d4f",
   "metadata": {
    "execution": {
     "iopub.execute_input": "2024-05-05T13:29:06.277079Z",
     "iopub.status.busy": "2024-05-05T13:29:06.276734Z",
     "iopub.status.idle": "2024-05-05T13:29:06.283376Z",
     "shell.execute_reply": "2024-05-05T13:29:06.282592Z"
    },
    "papermill": {
     "duration": 0.032004,
     "end_time": "2024-05-05T13:29:06.285583",
     "exception": false,
     "start_time": "2024-05-05T13:29:06.253579",
     "status": "completed"
    },
    "tags": []
   },
   "outputs": [],
   "source": [
    "df.drop(['id'],axis=1,inplace = True)"
   ]
  },
  {
   "cell_type": "markdown",
   "id": "a2b7de3b",
   "metadata": {
    "papermill": {
     "duration": 0.022581,
     "end_time": "2024-05-05T13:29:06.332471",
     "exception": false,
     "start_time": "2024-05-05T13:29:06.309890",
     "status": "completed"
    },
    "tags": []
   },
   "source": [
    "<p style=\"padding: 10px;\n",
    "          color:#CE6666;\n",
    "          font-size:180%;\n",
    "          font-family:Serif;\n",
    "          text-align:center;\">   \n",
    "Un necessary data removed \n",
    "     </p>"
   ]
  },
  {
   "cell_type": "markdown",
   "id": "d729f1d0",
   "metadata": {
    "papermill": {
     "duration": 0.022235,
     "end_time": "2024-05-05T13:29:06.376666",
     "exception": false,
     "start_time": "2024-05-05T13:29:06.354431",
     "status": "completed"
    },
    "tags": []
   },
   "source": [
    "-----------------\n",
    "<p style=\"background-color:#CA90A4;color:#051C20;font-size:215%;letter-spacing:0.5px;font-family:Bahnschrift Light;\">   Remove Duplicates </p>"
   ]
  },
  {
   "cell_type": "code",
   "execution_count": 8,
   "id": "28ec79a0",
   "metadata": {
    "execution": {
     "iopub.execute_input": "2024-05-05T13:29:06.422932Z",
     "iopub.status.busy": "2024-05-05T13:29:06.422635Z",
     "iopub.status.idle": "2024-05-05T13:29:06.433206Z",
     "shell.execute_reply": "2024-05-05T13:29:06.432266Z"
    },
    "papermill": {
     "duration": 0.036026,
     "end_time": "2024-05-05T13:29:06.435342",
     "exception": false,
     "start_time": "2024-05-05T13:29:06.399316",
     "status": "completed"
    },
    "tags": []
   },
   "outputs": [],
   "source": [
    "df.drop_duplicates(inplace=True)"
   ]
  },
  {
   "cell_type": "markdown",
   "id": "72b0a9ed",
   "metadata": {
    "papermill": {
     "duration": 0.021889,
     "end_time": "2024-05-05T13:29:06.479807",
     "exception": false,
     "start_time": "2024-05-05T13:29:06.457918",
     "status": "completed"
    },
    "tags": []
   },
   "source": [
    "<p style=\"padding: 10px;\n",
    "          color:#CE6666;\n",
    "          font-size:180%;\n",
    "          font-family:Serif;\n",
    "          text-align:center;\">   \n",
    "Dupliates Removed \n",
    "     </p>"
   ]
  },
  {
   "cell_type": "markdown",
   "id": "25afcfef",
   "metadata": {
    "execution": {
     "iopub.execute_input": "2023-07-27T14:55:45.452834Z",
     "iopub.status.busy": "2023-07-27T14:55:45.452428Z",
     "iopub.status.idle": "2023-07-27T14:55:46.13218Z",
     "shell.execute_reply": "2023-07-27T14:55:46.131109Z",
     "shell.execute_reply.started": "2023-07-27T14:55:45.452803Z"
    },
    "papermill": {
     "duration": 0.021495,
     "end_time": "2024-05-05T13:29:06.523172",
     "exception": false,
     "start_time": "2024-05-05T13:29:06.501677",
     "status": "completed"
    },
    "tags": []
   },
   "source": [
    "-------------\n",
    "<p style=\"background-color:#CA90A4;color:#051C20;font-size:215%;letter-spacing:0.5px;font-family:Bahnschrift Light;\">   Null Data Handling </p>"
   ]
  },
  {
   "cell_type": "code",
   "execution_count": 9,
   "id": "436cabaf",
   "metadata": {
    "execution": {
     "iopub.execute_input": "2024-05-05T13:29:06.568905Z",
     "iopub.status.busy": "2024-05-05T13:29:06.568596Z",
     "iopub.status.idle": "2024-05-05T13:29:06.584349Z",
     "shell.execute_reply": "2024-05-05T13:29:06.583502Z"
    },
    "papermill": {
     "duration": 0.040805,
     "end_time": "2024-05-05T13:29:06.586263",
     "exception": false,
     "start_time": "2024-05-05T13:29:06.545458",
     "status": "completed"
    },
    "tags": []
   },
   "outputs": [
    {
     "data": {
      "text/plain": [
       "gender                 0\n",
       "age                    0\n",
       "hypertension           0\n",
       "heart_disease          0\n",
       "ever_married           0\n",
       "work_type              0\n",
       "Residence_type         0\n",
       "avg_glucose_level      0\n",
       "bmi                  201\n",
       "smoking_status         0\n",
       "stroke                 0\n",
       "dtype: int64"
      ]
     },
     "execution_count": 9,
     "metadata": {},
     "output_type": "execute_result"
    }
   ],
   "source": [
    "df.isnull().sum()"
   ]
  },
  {
   "cell_type": "code",
   "execution_count": 10,
   "id": "821a7641",
   "metadata": {
    "execution": {
     "iopub.execute_input": "2024-05-05T13:29:06.632697Z",
     "iopub.status.busy": "2024-05-05T13:29:06.632346Z",
     "iopub.status.idle": "2024-05-05T13:29:06.656886Z",
     "shell.execute_reply": "2024-05-05T13:29:06.656008Z"
    },
    "papermill": {
     "duration": 0.050124,
     "end_time": "2024-05-05T13:29:06.659045",
     "exception": false,
     "start_time": "2024-05-05T13:29:06.608921",
     "status": "completed"
    },
    "tags": []
   },
   "outputs": [
    {
     "data": {
      "text/plain": [
       "0"
      ]
     },
     "execution_count": 10,
     "metadata": {},
     "output_type": "execute_result"
    }
   ],
   "source": [
    "# because we can't calcuate bmi from the data , we will drop the null data\n",
    "\n",
    "df.dropna(inplace=True)\n",
    "\n",
    "df.isnull().sum().sum()"
   ]
  },
  {
   "cell_type": "markdown",
   "id": "f9d60c50",
   "metadata": {
    "papermill": {
     "duration": 0.02269,
     "end_time": "2024-05-05T13:29:06.704559",
     "exception": false,
     "start_time": "2024-05-05T13:29:06.681869",
     "status": "completed"
    },
    "tags": []
   },
   "source": [
    "<p style=\"padding: 10px;\n",
    "          color:#CE6666;\n",
    "          font-size:180%;\n",
    "          font-family:Serif;\n",
    "          text-align:center;\">   \n",
    "Null Data Handled\n",
    "     </p>"
   ]
  },
  {
   "cell_type": "markdown",
   "id": "a97afcdc",
   "metadata": {
    "papermill": {
     "duration": 0.022084,
     "end_time": "2024-05-05T13:29:06.748662",
     "exception": false,
     "start_time": "2024-05-05T13:29:06.726578",
     "status": "completed"
    },
    "tags": []
   },
   "source": [
    "--------------------\n",
    "<p style=\"background-color:#CA90A4;color:#051C20;font-size:215%;letter-spacing:0.5px;font-family:Bahnschrift Light;\">  Outliers Handling</p>"
   ]
  },
  {
   "cell_type": "code",
   "execution_count": 11,
   "id": "844859ee",
   "metadata": {
    "execution": {
     "iopub.execute_input": "2024-05-05T13:29:06.794929Z",
     "iopub.status.busy": "2024-05-05T13:29:06.794639Z",
     "iopub.status.idle": "2024-05-05T13:29:07.197412Z",
     "shell.execute_reply": "2024-05-05T13:29:07.196419Z"
    },
    "papermill": {
     "duration": 0.428485,
     "end_time": "2024-05-05T13:29:07.199653",
     "exception": false,
     "start_time": "2024-05-05T13:29:06.771168",
     "status": "completed"
    },
    "tags": []
   },
   "outputs": [
    {
     "data": {
      "image/png": "[encoded data removed]",
      "text/plain": [
       "<Figure size 1500x500 with 3 Axes>"
      ]
     },
     "metadata": {},
     "output_type": "display_data"
    }
   ],
   "source": [
    "num_cols = ['age','bmi','avg_glucose_level']\n",
    "\n",
    "plt.figure(figsize=(15, 5))\n",
    "for i in range(3) :\n",
    "    plt.subplot(1,3,i+1)\n",
    "    \n",
    "    sns.boxplot(x=df[num_cols[i]],color='#6DA59D')\n",
    "    plt.title(num_cols[i])\n",
    "plt.show()"
   ]
  },
  {
   "cell_type": "code",
   "execution_count": 12,
   "id": "b941a47a",
   "metadata": {
    "execution": {
     "iopub.execute_input": "2024-05-05T13:29:07.249136Z",
     "iopub.status.busy": "2024-05-05T13:29:07.248822Z",
     "iopub.status.idle": "2024-05-05T13:29:07.254959Z",
     "shell.execute_reply": "2024-05-05T13:29:07.254074Z"
    },
    "papermill": {
     "duration": 0.03249,
     "end_time": "2024-05-05T13:29:07.257102",
     "exception": false,
     "start_time": "2024-05-05T13:29:07.224612",
     "status": "completed"
    },
    "tags": []
   },
   "outputs": [],
   "source": [
    "def detect_outliers(data,column):\n",
    "    q1 = df[column].quantile(.25)\n",
    "    q3= df[column].quantile(.75)\n",
    "    IQR = q3-q1\n",
    "    \n",
    "    lower_bound = q1 - (1.5*IQR)\n",
    "    upper_bound = q3 + (1.5*IQR)\n",
    "    \n",
    "    ls = df.index[(df[column] <lower_bound) | (df[column] > upper_bound)]\n",
    "    \n",
    "    return ls"
   ]
  },
  {
   "cell_type": "code",
   "execution_count": 13,
   "id": "346e0da7",
   "metadata": {
    "execution": {
     "iopub.execute_input": "2024-05-05T13:29:07.304584Z",
     "iopub.status.busy": "2024-05-05T13:29:07.304283Z",
     "iopub.status.idle": "2024-05-05T13:29:07.318680Z",
     "shell.execute_reply": "2024-05-05T13:29:07.317616Z"
    },
    "papermill": {
     "duration": 0.040556,
     "end_time": "2024-05-05T13:29:07.320944",
     "exception": false,
     "start_time": "2024-05-05T13:29:07.280388",
     "status": "completed"
    },
    "tags": []
   },
   "outputs": [],
   "source": [
    "index_list = []\n",
    "\n",
    "for column in num_cols:\n",
    "    index_list.extend(detect_outliers(df,column))\n",
    "\n",
    "# remove duplicated indices in the index_list and sort it \n",
    "index_list = sorted(set(index_list))"
   ]
  },
  {
   "cell_type": "code",
   "execution_count": 14,
   "id": "7da3f09e",
   "metadata": {
    "execution": {
     "iopub.execute_input": "2024-05-05T13:29:07.368386Z",
     "iopub.status.busy": "2024-05-05T13:29:07.368107Z",
     "iopub.status.idle": "2024-05-05T13:29:07.375423Z",
     "shell.execute_reply": "2024-05-05T13:29:07.374388Z"
    },
    "papermill": {
     "duration": 0.033383,
     "end_time": "2024-05-05T13:29:07.377526",
     "exception": false,
     "start_time": "2024-05-05T13:29:07.344143",
     "status": "completed"
    },
    "tags": []
   },
   "outputs": [
    {
     "name": "stdout",
     "output_type": "stream",
     "text": [
      "Shape of data before removing outliers : (4909, 11)\n",
      "Shape of data after remove : (4260, 11)\n"
     ]
    }
   ],
   "source": [
    "before_remove = df.shape\n",
    "\n",
    "df =df.drop(index_list)\n",
    "after_remove = df.shape\n",
    "\n",
    "print(f'''Shape of data before removing outliers : {before_remove}\n",
    "Shape of data after remove : {after_remove}''')"
   ]
  },
  {
   "cell_type": "markdown",
   "id": "6262e901",
   "metadata": {
    "papermill": {
     "duration": 0.023182,
     "end_time": "2024-05-05T13:29:07.424078",
     "exception": false,
     "start_time": "2024-05-05T13:29:07.400896",
     "status": "completed"
    },
    "tags": []
   },
   "source": [
    "<p style=\"padding: 10px;\n",
    "          color:#CE6666;\n",
    "          font-size:180%;\n",
    "          font-family:Serif;\n",
    "          text-align:center;\">   \n",
    "Removed [649] Outlier Successfully\n",
    "     </p>"
   ]
  },
  {
   "cell_type": "markdown",
   "id": "f215d1d8",
   "metadata": {
    "papermill": {
     "duration": 0.030181,
     "end_time": "2024-05-05T13:29:14.407537",
     "exception": false,
     "start_time": "2024-05-05T13:29:14.377356",
     "status": "completed"
    },
    "tags": []
   },
   "source": [
    "<p style=\"padding: 10px;\n",
    "          color:#CE6666;\n",
    "          font-size:180%;\n",
    "          font-family:Serif;\n",
    "          text-align:center;\">   \n",
    "Data is Imbalance\n",
    "     </p>"
   ]
  },
  {
   "cell_type": "markdown",
   "id": "78ea39c3",
   "metadata": {
    "papermill": {
     "duration": 0.029843,
     "end_time": "2024-05-05T13:29:14.467559",
     "exception": false,
     "start_time": "2024-05-05T13:29:14.437716",
     "status": "completed"
    },
    "tags": []
   },
   "source": [
    "----------------------------\n",
    "<div style=\"color:white;\n",
    "           display:fill;\n",
    "           border-radius:5px;\n",
    "           background-color:#F7C7D7;\n",
    "           font-size:200%;\n",
    "           font-family:Serif;\n",
    "           letter-spacing:0.5px\">\n",
    "\n",
    "<p style=\"padding: 10px;\n",
    "          color:#23494F;\n",
    "          font-size:120%;\n",
    "          text-align:center;\">\n",
    " Libraries For ML\n",
    "</p>\n",
    "</div>"
   ]
  },
  {
   "cell_type": "code",
   "execution_count": 28,
   "id": "272feafd",
   "metadata": {
    "execution": {
     "iopub.execute_input": "2024-05-05T13:29:14.526679Z",
     "iopub.status.busy": "2024-05-05T13:29:14.526016Z",
     "iopub.status.idle": "2024-05-05T13:29:15.027547Z",
     "shell.execute_reply": "2024-05-05T13:29:15.026702Z"
    },
    "papermill": {
     "duration": 0.53334,
     "end_time": "2024-05-05T13:29:15.029941",
     "exception": false,
     "start_time": "2024-05-05T13:29:14.496601",
     "status": "completed"
    },
    "tags": []
   },
   "outputs": [],
   "source": [
    "from sklearn.model_selection import train_test_split\n",
    "from sklearn.preprocessing import StandardScaler \n",
    "from sklearn.metrics import confusion_matrix , accuracy_score , classification_report\n",
    "\n",
    "from sklearn.neighbors import KNeighborsClassifier\n",
    "from sklearn.linear_model import LogisticRegression \n",
    "from sklearn.tree import DecisionTreeClassifier \n",
    "from sklearn.naive_bayes import GaussianNB \n",
    "from sklearn.svm import SVC\n",
    "from sklearn .ensemble import RandomForestClassifier \n",
    "from sklearn .ensemble import VotingClassifier , BaggingClassifier , StackingClassifier "
   ]
  },
  {
   "cell_type": "markdown",
   "id": "1f16cdcf",
   "metadata": {
    "papermill": {
     "duration": 0.031425,
     "end_time": "2024-05-05T13:29:15.090976",
     "exception": false,
     "start_time": "2024-05-05T13:29:15.059551",
     "status": "completed"
    },
    "tags": []
   },
   "source": [
    "----------------\n",
    "<div style=\"color:white;\n",
    "           display:fill;\n",
    "           border-radius:5px;\n",
    "           background-color:#F7C7D7;\n",
    "           font-size:200%;\n",
    "           font-family:Serif;\n",
    "           letter-spacing:0.5px\">\n",
    "\n",
    "<p style=\"padding: 10px;\n",
    "          color:#23494F;\n",
    "          font-size:120%;\n",
    "          text-align:center;\">\n",
    "Data Preprocessing\n",
    "</p>\n",
    "</div>"
   ]
  },
  {
   "cell_type": "markdown",
   "id": "15856c15",
   "metadata": {
    "papermill": {
     "duration": 0.02864,
     "end_time": "2024-05-05T13:29:15.149326",
     "exception": false,
     "start_time": "2024-05-05T13:29:15.120686",
     "status": "completed"
    },
    "tags": []
   },
   "source": [
    "------------------\n",
    "<p style=\"background-color:#CA90A4;color:#051C20;font-size:215%;letter-spacing:0.5px;font-family:Bahnschrift Light;\">  Resamble Unbalanced Data </p>"
   ]
  },
  {
   "cell_type": "code",
   "execution_count": 29,
   "id": "b2c6f6c6",
   "metadata": {
    "execution": {
     "iopub.execute_input": "2024-05-05T13:29:15.209250Z",
     "iopub.status.busy": "2024-05-05T13:29:15.208916Z",
     "iopub.status.idle": "2024-05-05T13:29:15.219806Z",
     "shell.execute_reply": "2024-05-05T13:29:15.218904Z"
    },
    "papermill": {
     "duration": 0.043219,
     "end_time": "2024-05-05T13:29:15.221898",
     "exception": false,
     "start_time": "2024-05-05T13:29:15.178679",
     "status": "completed"
    },
    "tags": []
   },
   "outputs": [
    {
     "data": {
      "text/plain": [
       "0    4124\n",
       "1     136\n",
       "Name: stroke, dtype: int64"
      ]
     },
     "execution_count": 29,
     "metadata": {},
     "output_type": "execute_result"
    }
   ],
   "source": [
    "df_0 = df[df.iloc[:,-1]==0]\n",
    "df_1 = df[df.iloc[:,-1]==1]\n",
    "\n",
    "df['stroke'].value_counts()"
   ]
  },
  {
   "cell_type": "code",
   "execution_count": 30,
   "id": "fcea1569",
   "metadata": {
    "execution": {
     "iopub.execute_input": "2024-05-05T13:29:15.282600Z",
     "iopub.status.busy": "2024-05-05T13:29:15.282242Z",
     "iopub.status.idle": "2024-05-05T13:29:15.288611Z",
     "shell.execute_reply": "2024-05-05T13:29:15.287828Z"
    },
    "papermill": {
     "duration": 0.039018,
     "end_time": "2024-05-05T13:29:15.290697",
     "exception": false,
     "start_time": "2024-05-05T13:29:15.251679",
     "status": "completed"
    },
    "tags": []
   },
   "outputs": [],
   "source": [
    "from sklearn.utils import resample\n",
    "\n",
    "df_1 = resample(df_1,replace=True , n_samples=df_0.shape[0] , random_state=123 )\n",
    "\n"
   ]
  },
  {
   "cell_type": "code",
   "execution_count": 31,
   "id": "9d68d083",
   "metadata": {
    "execution": {
     "iopub.execute_input": "2024-05-05T13:29:15.350844Z",
     "iopub.status.busy": "2024-05-05T13:29:15.350538Z",
     "iopub.status.idle": "2024-05-05T13:29:15.413185Z",
     "shell.execute_reply": "2024-05-05T13:29:15.412352Z"
    },
    "papermill": {
     "duration": 0.094786,
     "end_time": "2024-05-05T13:29:15.415249",
     "exception": false,
     "start_time": "2024-05-05T13:29:15.320463",
     "status": "completed"
    },
    "tags": []
   },
   "outputs": [
    {
     "data": {
      "text/html": [
       "<div>                            <div id=\"d7f2736f-778e-4c19-8cb9-186d831ed193\" class=\"plotly-graph-div\" style=\"height:525px; width:100%;\"></div>            <script type=\"text/javascript\">                require([\"plotly\"], function(Plotly) {                    window.PLOTLYENV=window.PLOTLYENV || {};                                    if (document.getElementById(\"d7f2736f-778e-4c19-8cb9-186d831ed193\")) {                    Plotly.newPlot(                        \"d7f2736f-778e-4c19-8cb9-186d831ed193\",                        [{\"domain\":{\"x\":[0.0,1.0],\"y\":[0.0,1.0]},\"hovertemplate\":\"label=%{label}<br>value=%{value}<extra></extra>\",\"labels\":[\"False\",\"True\"],\"legendgroup\":\"\",\"name\":\"\",\"showlegend\":true,\"values\":[4124,4124],\"type\":\"pie\",\"textinfo\":\"percent+label\",\"textposition\":\"inside\"}],                        {\"template\":{\"data\":{\"histogram2dcontour\":[{\"type\":\"histogram2dcontour\",\"colorbar\":{\"outlinewidth\":0,\"ticks\":\"\"},\"colorscale\":[[0.0,\"#0d0887\"],[0.1111111111111111,\"#46039f\"],[0.2222222222222222,\"#7201a8\"],[0.3333333333333333,\"#9c179e\"],[0.4444444444444444,\"#bd3786\"],[0.5555555555555556,\"#d8576b\"],[0.6666666666666666,\"#ed7953\"],[0.7777777777777778,\"#fb9f3a\"],[0.8888888888888888,\"#fdca26\"],[1.0,\"#f0f921\"]]}],\"choropleth\":[{\"type\":\"choropleth\",\"colorbar\":{\"outlinewidth\":0,\"ticks\":\"\"}}],\"histogram2d\":[{\"type\":\"histogram2d\",\"colorbar\":{\"outlinewidth\":0,\"ticks\":\"\"},\"colorscale\":[[0.0,\"#0d0887\"],[0.1111111111111111,\"#46039f\"],[0.2222222222222222,\"#7201a8\"],[0.3333333333333333,\"#9c179e\"],[0.4444444444444444,\"#bd3786\"],[0.5555555555555556,\"#d8576b\"],[0.6666666666666666,\"#ed7953\"],[0.7777777777777778,\"#fb9f3a\"],[0.8888888888888888,\"#fdca26\"],[1.0,\"#f0f921\"]]}],\"heatmap\":[{\"type\":\"heatmap\",\"colorbar\":{\"outlinewidth\":0,\"ticks\":\"\"},\"colorscale\":[[0.0,\"#0d0887\"],[0.1111111111111111,\"#46039f\"],[0.2222222222222222,\"#7201a8\"],[0.3333333333333333,\"#9c179e\"],[0.4444444444444444,\"#bd3786\"],[0.5555555555555556,\"#d8576b\"],[0.6666666666666666,\"#ed7953\"],[0.7777777777777778,\"#fb9f3a\"],[0.8888888888888888,\"#fdca26\"],[1.0,\"#f0f921\"]]}],\"heatmapgl\":[{\"type\":\"heatmapgl\",\"colorbar\":{\"outlinewidth\":0,\"ticks\":\"\"},\"colorscale\":[[0.0,\"#0d0887\"],[0.1111111111111111,\"#46039f\"],[0.2222222222222222,\"#7201a8\"],[0.3333333333333333,\"#9c179e\"],[0.4444444444444444,\"#bd3786\"],[0.5555555555555556,\"#d8576b\"],[0.6666666666666666,\"#ed7953\"],[0.7777777777777778,\"#fb9f3a\"],[0.8888888888888888,\"#fdca26\"],[1.0,\"#f0f921\"]]}],\"contourcarpet\":[{\"type\":\"contourcarpet\",\"colorbar\":{\"outlinewidth\":0,\"ticks\":\"\"}}],\"contour\":[{\"type\":\"contour\",\"colorbar\":{\"outlinewidth\":0,\"ticks\":\"\"},\"colorscale\":[[0.0,\"#0d0887\"],[0.1111111111111111,\"#46039f\"],[0.2222222222222222,\"#7201a8\"],[0.3333333333333333,\"#9c179e\"],[0.4444444444444444,\"#bd3786\"],[0.5555555555555556,\"#d8576b\"],[0.6666666666666666,\"#ed7953\"],[0.7777777777777778,\"#fb9f3a\"],[0.8888888888888888,\"#fdca26\"],[1.0,\"#f0f921\"]]}],\"surface\":[{\"type\":\"surface\",\"colorbar\":{\"outlinewidth\":0,\"ticks\":\"\"},\"colorscale\":[[0.0,\"#0d0887\"],[0.1111111111111111,\"#46039f\"],[0.2222222222222222,\"#7201a8\"],[0.3333333333333333,\"#9c179e\"],[0.4444444444444444,\"#bd3786\"],[0.5555555555555556,\"#d8576b\"],[0.6666666666666666,\"#ed7953\"],[0.7777777777777778,\"#fb9f3a\"],[0.8888888888888888,\"#fdca26\"],[1.0,\"#f0f921\"]]}],\"mesh3d\":[{\"type\":\"mesh3d\",\"colorbar\":{\"outlinewidth\":0,\"ticks\":\"\"}}],\"scatter\":[{\"fillpattern\":{\"fillmode\":\"overlay\",\"size\":10,\"solidity\":0.2},\"type\":\"scatter\"}],\"parcoords\":[{\"type\":\"parcoords\",\"line\":{\"colorbar\":{\"outlinewidth\":0,\"ticks\":\"\"}}}],\"scatterpolargl\":[{\"type\":\"scatterpolargl\",\"marker\":{\"colorbar\":{\"outlinewidth\":0,\"ticks\":\"\"}}}],\"bar\":[{\"error_x\":{\"color\":\"#2a3f5f\"},\"error_y\":{\"color\":\"#2a3f5f\"},\"marker\":{\"line\":{\"color\":\"#E5ECF6\",\"width\":0.5},\"pattern\":{\"fillmode\":\"overlay\",\"size\":10,\"solidity\":0.2}},\"type\":\"bar\"}],\"scattergeo\":[{\"type\":\"scattergeo\",\"marker\":{\"colorbar\":{\"outlinewidth\":0,\"ticks\":\"\"}}}],\"scatterpolar\":[{\"type\":\"scatterpolar\",\"marker\":{\"colorbar\":{\"outlinewidth\":0,\"ticks\":\"\"}}}],\"histogram\":[{\"marker\":{\"pattern\":{\"fillmode\":\"overlay\",\"size\":10,\"solidity\":0.2}},\"type\":\"histogram\"}],\"scattergl\":[{\"type\":\"scattergl\",\"marker\":{\"colorbar\":{\"outlinewidth\":0,\"ticks\":\"\"}}}],\"scatter3d\":[{\"type\":\"scatter3d\",\"line\":{\"colorbar\":{\"outlinewidth\":0,\"ticks\":\"\"}},\"marker\":{\"colorbar\":{\"outlinewidth\":0,\"ticks\":\"\"}}}],\"scattermapbox\":[{\"type\":\"scattermapbox\",\"marker\":{\"colorbar\":{\"outlinewidth\":0,\"ticks\":\"\"}}}],\"scatterternary\":[{\"type\":\"scatterternary\",\"marker\":{\"colorbar\":{\"outlinewidth\":0,\"ticks\":\"\"}}}],\"scattercarpet\":[{\"type\":\"scattercarpet\",\"marker\":{\"colorbar\":{\"outlinewidth\":0,\"ticks\":\"\"}}}],\"carpet\":[{\"aaxis\":{\"endlinecolor\":\"#2a3f5f\",\"gridcolor\":\"white\",\"linecolor\":\"white\",\"minorgridcolor\":\"white\",\"startlinecolor\":\"#2a3f5f\"},\"baxis\":{\"endlinecolor\":\"#2a3f5f\",\"gridcolor\":\"white\",\"linecolor\":\"white\",\"minorgridcolor\":\"white\",\"startlinecolor\":\"#2a3f5f\"},\"type\":\"carpet\"}],\"table\":[{\"cells\":{\"fill\":{\"color\":\"#EBF0F8\"},\"line\":{\"color\":\"white\"}},\"header\":{\"fill\":{\"color\":\"#C8D4E3\"},\"line\":{\"color\":\"white\"}},\"type\":\"table\"}],\"barpolar\":[{\"marker\":{\"line\":{\"color\":\"#E5ECF6\",\"width\":0.5},\"pattern\":{\"fillmode\":\"overlay\",\"size\":10,\"solidity\":0.2}},\"type\":\"barpolar\"}],\"pie\":[{\"automargin\":true,\"type\":\"pie\"}]},\"layout\":{\"autotypenumbers\":\"strict\",\"colorway\":[\"#636efa\",\"#EF553B\",\"#00cc96\",\"#ab63fa\",\"#FFA15A\",\"#19d3f3\",\"#FF6692\",\"#B6E880\",\"#FF97FF\",\"#FECB52\"],\"font\":{\"color\":\"#2a3f5f\"},\"hovermode\":\"closest\",\"hoverlabel\":{\"align\":\"left\"},\"paper_bgcolor\":\"white\",\"plot_bgcolor\":\"#E5ECF6\",\"polar\":{\"bgcolor\":\"#E5ECF6\",\"angularaxis\":{\"gridcolor\":\"white\",\"linecolor\":\"white\",\"ticks\":\"\"},\"radialaxis\":{\"gridcolor\":\"white\",\"linecolor\":\"white\",\"ticks\":\"\"}},\"ternary\":{\"bgcolor\":\"#E5ECF6\",\"aaxis\":{\"gridcolor\":\"white\",\"linecolor\":\"white\",\"ticks\":\"\"},\"baxis\":{\"gridcolor\":\"white\",\"linecolor\":\"white\",\"ticks\":\"\"},\"caxis\":{\"gridcolor\":\"white\",\"linecolor\":\"white\",\"ticks\":\"\"}},\"coloraxis\":{\"colorbar\":{\"outlinewidth\":0,\"ticks\":\"\"}},\"colorscale\":{\"sequential\":[[0.0,\"#0d0887\"],[0.1111111111111111,\"#46039f\"],[0.2222222222222222,\"#7201a8\"],[0.3333333333333333,\"#9c179e\"],[0.4444444444444444,\"#bd3786\"],[0.5555555555555556,\"#d8576b\"],[0.6666666666666666,\"#ed7953\"],[0.7777777777777778,\"#fb9f3a\"],[0.8888888888888888,\"#fdca26\"],[1.0,\"#f0f921\"]],\"sequentialminus\":[[0.0,\"#0d0887\"],[0.1111111111111111,\"#46039f\"],[0.2222222222222222,\"#7201a8\"],[0.3333333333333333,\"#9c179e\"],[0.4444444444444444,\"#bd3786\"],[0.5555555555555556,\"#d8576b\"],[0.6666666666666666,\"#ed7953\"],[0.7777777777777778,\"#fb9f3a\"],[0.8888888888888888,\"#fdca26\"],[1.0,\"#f0f921\"]],\"diverging\":[[0,\"#8e0152\"],[0.1,\"#c51b7d\"],[0.2,\"#de77ae\"],[0.3,\"#f1b6da\"],[0.4,\"#fde0ef\"],[0.5,\"#f7f7f7\"],[0.6,\"#e6f5d0\"],[0.7,\"#b8e186\"],[0.8,\"#7fbc41\"],[0.9,\"#4d9221\"],[1,\"#276419\"]]},\"xaxis\":{\"gridcolor\":\"white\",\"linecolor\":\"white\",\"ticks\":\"\",\"title\":{\"standoff\":15},\"zerolinecolor\":\"white\",\"automargin\":true,\"zerolinewidth\":2},\"yaxis\":{\"gridcolor\":\"white\",\"linecolor\":\"white\",\"ticks\":\"\",\"title\":{\"standoff\":15},\"zerolinecolor\":\"white\",\"automargin\":true,\"zerolinewidth\":2},\"scene\":{\"xaxis\":{\"backgroundcolor\":\"#E5ECF6\",\"gridcolor\":\"white\",\"linecolor\":\"white\",\"showbackground\":true,\"ticks\":\"\",\"zerolinecolor\":\"white\",\"gridwidth\":2},\"yaxis\":{\"backgroundcolor\":\"#E5ECF6\",\"gridcolor\":\"white\",\"linecolor\":\"white\",\"showbackground\":true,\"ticks\":\"\",\"zerolinecolor\":\"white\",\"gridwidth\":2},\"zaxis\":{\"backgroundcolor\":\"#E5ECF6\",\"gridcolor\":\"white\",\"linecolor\":\"white\",\"showbackground\":true,\"ticks\":\"\",\"zerolinecolor\":\"white\",\"gridwidth\":2}},\"shapedefaults\":{\"line\":{\"color\":\"#2a3f5f\"}},\"annotationdefaults\":{\"arrowcolor\":\"#2a3f5f\",\"arrowhead\":0,\"arrowwidth\":1},\"geo\":{\"bgcolor\":\"white\",\"landcolor\":\"#E5ECF6\",\"subunitcolor\":\"white\",\"showland\":true,\"showlakes\":true,\"lakecolor\":\"white\"},\"title\":{\"x\":0.05},\"mapbox\":{\"style\":\"light\"}}},\"legend\":{\"tracegroupgap\":0},\"title\":{\"text\":\"Stroke Occurance\"},\"piecolorway\":[\"rgb(36, 86, 104)\",\"rgb(15, 114, 121)\",\"rgb(13, 143, 129)\",\"rgb(57, 171, 126)\",\"rgb(110, 197, 116)\",\"rgb(169, 220, 103)\",\"rgb(237, 239, 93)\"]},                        {\"responsive\": true}                    ).then(function(){\n",
       "                            \n",
       "var gd = document.getElementById('d7f2736f-778e-4c19-8cb9-186d831ed193');\n",
       "var x = new MutationObserver(function (mutations, observer) {{\n",
       "        var display = window.getComputedStyle(gd).display;\n",
       "        if (!display || display === 'none') {{\n",
       "            console.log([gd, 'removed!']);\n",
       "            Plotly.purge(gd);\n",
       "            observer.disconnect();\n",
       "        }}\n",
       "}});\n",
       "\n",
       "// Listen for the removal of the full notebook cells\n",
       "var notebookContainer = gd.closest('#notebook-container');\n",
       "if (notebookContainer) {{\n",
       "    x.observe(notebookContainer, {childList: true});\n",
       "}}\n",
       "\n",
       "// Listen for the clearing of the current output cell\n",
       "var outputEl = gd.closest('.output');\n",
       "if (outputEl) {{\n",
       "    x.observe(outputEl, {childList: true});\n",
       "}}\n",
       "\n",
       "                        })                };                });            </script>        </div>"
      ]
     },
     "metadata": {},
     "output_type": "display_data"
    }
   ],
   "source": [
    "#concatenate upsampled data \n",
    "df = np.concatenate((df_0,df_1))\n",
    "\n",
    "#create the balanced dataframe\n",
    "df = pd.DataFrame(df)\n",
    "df.columns = ['gender', 'age', 'hypertension', 'heart_disease', 'ever_married','work_type', 'Residence_type', 'avg_glucose_level', 'bmi','smoking_status', 'stroke']\n",
    "\n",
    "# visualize balanced data \n",
    "stroke = dict(df['stroke'].value_counts())\n",
    "fig = px.pie(names = ['False','True'],values = stroke.values(),title = 'Stroke Occurance',color_discrete_sequence=px.colors.sequential.Aggrnyl)\n",
    "fig.update_traces(textposition='inside', textinfo='percent+label')"
   ]
  },
  {
   "cell_type": "code",
   "execution_count": 32,
   "id": "d913f310",
   "metadata": {
    "execution": {
     "iopub.execute_input": "2024-05-05T13:29:15.475780Z",
     "iopub.status.busy": "2024-05-05T13:29:15.475474Z",
     "iopub.status.idle": "2024-05-05T13:29:15.483703Z",
     "shell.execute_reply": "2024-05-05T13:29:15.482742Z"
    },
    "papermill": {
     "duration": 0.040352,
     "end_time": "2024-05-05T13:29:15.485581",
     "exception": false,
     "start_time": "2024-05-05T13:29:15.445229",
     "status": "completed"
    },
    "tags": []
   },
   "outputs": [
    {
     "data": {
      "text/plain": [
       "0    4124\n",
       "1    4124\n",
       "Name: stroke, dtype: int64"
      ]
     },
     "execution_count": 32,
     "metadata": {},
     "output_type": "execute_result"
    }
   ],
   "source": [
    "df['stroke'].value_counts()"
   ]
  },
  {
   "cell_type": "markdown",
   "id": "9af9823d",
   "metadata": {
    "papermill": {
     "duration": 0.029267,
     "end_time": "2024-05-05T13:29:15.544187",
     "exception": false,
     "start_time": "2024-05-05T13:29:15.514920",
     "status": "completed"
    },
    "tags": []
   },
   "source": [
    "<p style=\"padding: 10px;\n",
    "          color:#CE6666;\n",
    "          font-size:180%;\n",
    "          font-family:Serif;\n",
    "          text-align:center;\">   \n",
    "Data Balanced Successfully \n",
    "     </p>"
   ]
  },
  {
   "cell_type": "markdown",
   "id": "7fb6564b",
   "metadata": {
    "papermill": {
     "duration": 0.029335,
     "end_time": "2024-05-05T13:29:15.602676",
     "exception": false,
     "start_time": "2024-05-05T13:29:15.573341",
     "status": "completed"
    },
    "tags": []
   },
   "source": [
    "--------------------------\n",
    "<p style=\"background-color:#CA90A4;color:#051C20;font-size:215%;letter-spacing:0.5px;font-family:Bahnschrift Light;\">   Encoding Data </p>"
   ]
  },
  {
   "cell_type": "code",
   "execution_count": 33,
   "id": "3b258514",
   "metadata": {
    "execution": {
     "iopub.execute_input": "2024-05-05T13:29:15.663299Z",
     "iopub.status.busy": "2024-05-05T13:29:15.662993Z",
     "iopub.status.idle": "2024-05-05T13:29:15.681735Z",
     "shell.execute_reply": "2024-05-05T13:29:15.680917Z"
    },
    "papermill": {
     "duration": 0.05178,
     "end_time": "2024-05-05T13:29:15.683903",
     "exception": false,
     "start_time": "2024-05-05T13:29:15.632123",
     "status": "completed"
    },
    "tags": []
   },
   "outputs": [],
   "source": [
    "df = pd.get_dummies(data =df , columns =  ['gender','ever_married','work_type','Residence_type','smoking_status'] ,drop_first=True )"
   ]
  },
  {
   "cell_type": "code",
   "execution_count": 34,
   "id": "728fdf06",
   "metadata": {
    "execution": {
     "iopub.execute_input": "2024-05-05T13:29:15.744798Z",
     "iopub.status.busy": "2024-05-05T13:29:15.744498Z",
     "iopub.status.idle": "2024-05-05T13:29:15.761215Z",
     "shell.execute_reply": "2024-05-05T13:29:15.760373Z"
    },
    "papermill": {
     "duration": 0.049641,
     "end_time": "2024-05-05T13:29:15.763357",
     "exception": false,
     "start_time": "2024-05-05T13:29:15.713716",
     "status": "completed"
    },
    "tags": []
   },
   "outputs": [
    {
     "data": {
      "text/html": [
       "<div>\n",
       "<style scoped>\n",
       "    .dataframe tbody tr th:only-of-type {\n",
       "        vertical-align: middle;\n",
       "    }\n",
       "\n",
       "    .dataframe tbody tr th {\n",
       "        vertical-align: top;\n",
       "    }\n",
       "\n",
       "    .dataframe thead th {\n",
       "        text-align: right;\n",
       "    }\n",
       "</style>\n",
       "<table border=\"1\" class=\"dataframe\">\n",
       "  <thead>\n",
       "    <tr style=\"text-align: right;\">\n",
       "      <th></th>\n",
       "      <th>age</th>\n",
       "      <th>hypertension</th>\n",
       "      <th>heart_disease</th>\n",
       "      <th>avg_glucose_level</th>\n",
       "      <th>bmi</th>\n",
       "      <th>stroke</th>\n",
       "      <th>gender_Male</th>\n",
       "      <th>gender_Other</th>\n",
       "      <th>ever_married_Yes</th>\n",
       "      <th>work_type_Never_worked</th>\n",
       "      <th>work_type_Private</th>\n",
       "      <th>work_type_Self-employed</th>\n",
       "      <th>work_type_children</th>\n",
       "      <th>Residence_type_Urban</th>\n",
       "      <th>smoking_status_formerly smoked</th>\n",
       "      <th>smoking_status_never smoked</th>\n",
       "      <th>smoking_status_smokes</th>\n",
       "    </tr>\n",
       "  </thead>\n",
       "  <tbody>\n",
       "    <tr>\n",
       "      <th>0</th>\n",
       "      <td>3.0</td>\n",
       "      <td>0</td>\n",
       "      <td>0</td>\n",
       "      <td>95.12</td>\n",
       "      <td>18.0</td>\n",
       "      <td>0</td>\n",
       "      <td>1</td>\n",
       "      <td>0</td>\n",
       "      <td>0</td>\n",
       "      <td>0</td>\n",
       "      <td>0</td>\n",
       "      <td>0</td>\n",
       "      <td>1</td>\n",
       "      <td>0</td>\n",
       "      <td>0</td>\n",
       "      <td>0</td>\n",
       "      <td>0</td>\n",
       "    </tr>\n",
       "    <tr>\n",
       "      <th>1</th>\n",
       "      <td>58.0</td>\n",
       "      <td>1</td>\n",
       "      <td>0</td>\n",
       "      <td>87.96</td>\n",
       "      <td>39.2</td>\n",
       "      <td>0</td>\n",
       "      <td>1</td>\n",
       "      <td>0</td>\n",
       "      <td>1</td>\n",
       "      <td>0</td>\n",
       "      <td>1</td>\n",
       "      <td>0</td>\n",
       "      <td>0</td>\n",
       "      <td>1</td>\n",
       "      <td>0</td>\n",
       "      <td>1</td>\n",
       "      <td>0</td>\n",
       "    </tr>\n",
       "    <tr>\n",
       "      <th>2</th>\n",
       "      <td>8.0</td>\n",
       "      <td>0</td>\n",
       "      <td>0</td>\n",
       "      <td>110.89</td>\n",
       "      <td>17.6</td>\n",
       "      <td>0</td>\n",
       "      <td>0</td>\n",
       "      <td>0</td>\n",
       "      <td>0</td>\n",
       "      <td>0</td>\n",
       "      <td>1</td>\n",
       "      <td>0</td>\n",
       "      <td>0</td>\n",
       "      <td>1</td>\n",
       "      <td>0</td>\n",
       "      <td>0</td>\n",
       "      <td>0</td>\n",
       "    </tr>\n",
       "    <tr>\n",
       "      <th>3</th>\n",
       "      <td>70.0</td>\n",
       "      <td>0</td>\n",
       "      <td>0</td>\n",
       "      <td>69.04</td>\n",
       "      <td>35.9</td>\n",
       "      <td>0</td>\n",
       "      <td>0</td>\n",
       "      <td>0</td>\n",
       "      <td>1</td>\n",
       "      <td>0</td>\n",
       "      <td>1</td>\n",
       "      <td>0</td>\n",
       "      <td>0</td>\n",
       "      <td>0</td>\n",
       "      <td>1</td>\n",
       "      <td>0</td>\n",
       "      <td>0</td>\n",
       "    </tr>\n",
       "    <tr>\n",
       "      <th>4</th>\n",
       "      <td>14.0</td>\n",
       "      <td>0</td>\n",
       "      <td>0</td>\n",
       "      <td>161.28</td>\n",
       "      <td>19.1</td>\n",
       "      <td>0</td>\n",
       "      <td>1</td>\n",
       "      <td>0</td>\n",
       "      <td>0</td>\n",
       "      <td>1</td>\n",
       "      <td>0</td>\n",
       "      <td>0</td>\n",
       "      <td>0</td>\n",
       "      <td>0</td>\n",
       "      <td>0</td>\n",
       "      <td>0</td>\n",
       "      <td>0</td>\n",
       "    </tr>\n",
       "  </tbody>\n",
       "</table>\n",
       "</div>"
      ],
      "text/plain": [
       "    age hypertension heart_disease avg_glucose_level   bmi stroke  \\\n",
       "0   3.0            0             0             95.12  18.0      0   \n",
       "1  58.0            1             0             87.96  39.2      0   \n",
       "2   8.0            0             0            110.89  17.6      0   \n",
       "3  70.0            0             0             69.04  35.9      0   \n",
       "4  14.0            0             0            161.28  19.1      0   \n",
       "\n",
       "   gender_Male  gender_Other  ever_married_Yes  work_type_Never_worked  \\\n",
       "0            1             0                 0                       0   \n",
       "1            1             0                 1                       0   \n",
       "2            0             0                 0                       0   \n",
       "3            0             0                 1                       0   \n",
       "4            1             0                 0                       1   \n",
       "\n",
       "   work_type_Private  work_type_Self-employed  work_type_children  \\\n",
       "0                  0                        0                   1   \n",
       "1                  1                        0                   0   \n",
       "2                  1                        0                   0   \n",
       "3                  1                        0                   0   \n",
       "4                  0                        0                   0   \n",
       "\n",
       "   Residence_type_Urban  smoking_status_formerly smoked  \\\n",
       "0                     0                               0   \n",
       "1                     1                               0   \n",
       "2                     1                               0   \n",
       "3                     0                               1   \n",
       "4                     0                               0   \n",
       "\n",
       "   smoking_status_never smoked  smoking_status_smokes  \n",
       "0                            0                      0  \n",
       "1                            1                      0  \n",
       "2                            0                      0  \n",
       "3                            0                      0  \n",
       "4                            0                      0  "
      ]
     },
     "execution_count": 34,
     "metadata": {},
     "output_type": "execute_result"
    }
   ],
   "source": [
    "df.head()"
   ]
  },
  {
   "cell_type": "markdown",
   "id": "c8f36a1d",
   "metadata": {
    "papermill": {
     "duration": 0.029997,
     "end_time": "2024-05-05T13:29:15.822413",
     "exception": false,
     "start_time": "2024-05-05T13:29:15.792416",
     "status": "completed"
    },
    "tags": []
   },
   "source": [
    "-------------\n",
    "<p style=\"background-color:#CA90A4;color:#051C20;font-size:215%;letter-spacing:0.5px;font-family:Bahnschrift Light;\">   Data Split [Features - Target]</p>"
   ]
  },
  {
   "cell_type": "code",
   "execution_count": 35,
   "id": "3a16a322",
   "metadata": {
    "execution": {
     "iopub.execute_input": "2024-05-05T13:29:15.883156Z",
     "iopub.status.busy": "2024-05-05T13:29:15.882868Z",
     "iopub.status.idle": "2024-05-05T13:29:15.890332Z",
     "shell.execute_reply": "2024-05-05T13:29:15.889609Z"
    },
    "papermill": {
     "duration": 0.040266,
     "end_time": "2024-05-05T13:29:15.892432",
     "exception": false,
     "start_time": "2024-05-05T13:29:15.852166",
     "status": "completed"
    },
    "tags": []
   },
   "outputs": [],
   "source": [
    "x = df.drop('stroke', axis = 1)\n",
    "y = pd.to_numeric( df['stroke'])\n"
   ]
  },
  {
   "cell_type": "markdown",
   "id": "6432a6d1",
   "metadata": {
    "papermill": {
     "duration": 0.02999,
     "end_time": "2024-05-05T13:29:15.952351",
     "exception": false,
     "start_time": "2024-05-05T13:29:15.922361",
     "status": "completed"
    },
    "tags": []
   },
   "source": [
    "-------------------\n",
    "<p style=\"background-color:#CA90A4;color:#051C20;font-size:215%;letter-spacing:0.5px;font-family:Bahnschrift Light;\">   Data Scaling </p>"
   ]
  },
  {
   "cell_type": "code",
   "execution_count": 36,
   "id": "34df039c",
   "metadata": {
    "execution": {
     "iopub.execute_input": "2024-05-05T13:29:16.011428Z",
     "iopub.status.busy": "2024-05-05T13:29:16.011099Z",
     "iopub.status.idle": "2024-05-05T13:29:16.056326Z",
     "shell.execute_reply": "2024-05-05T13:29:16.055506Z"
    },
    "papermill": {
     "duration": 0.077221,
     "end_time": "2024-05-05T13:29:16.058742",
     "exception": false,
     "start_time": "2024-05-05T13:29:15.981521",
     "status": "completed"
    },
    "tags": []
   },
   "outputs": [],
   "source": [
    "scaler = StandardScaler()\n",
    "\n",
    "x = scaler.fit_transform(x)"
   ]
  },
  {
   "cell_type": "markdown",
   "id": "31c5d1fe",
   "metadata": {
    "papermill": {
     "duration": 0.029947,
     "end_time": "2024-05-05T13:29:16.120516",
     "exception": false,
     "start_time": "2024-05-05T13:29:16.090569",
     "status": "completed"
    },
    "tags": []
   },
   "source": [
    "----------------------\n",
    "<p style=\"background-color:#CA90A4;color:#051C20;font-size:215%;letter-spacing:0.5px;font-family:Bahnschrift Light;\">   Split Data [Train - Test] </p>"
   ]
  },
  {
   "cell_type": "code",
   "execution_count": 37,
   "id": "96cd68dc",
   "metadata": {
    "execution": {
     "iopub.execute_input": "2024-05-05T13:29:16.181601Z",
     "iopub.status.busy": "2024-05-05T13:29:16.181259Z",
     "iopub.status.idle": "2024-05-05T13:29:16.187338Z",
     "shell.execute_reply": "2024-05-05T13:29:16.186371Z"
    },
    "papermill": {
     "duration": 0.039767,
     "end_time": "2024-05-05T13:29:16.189590",
     "exception": false,
     "start_time": "2024-05-05T13:29:16.149823",
     "status": "completed"
    },
    "tags": []
   },
   "outputs": [],
   "source": [
    "x_train , x_test , y_train , y_test = train_test_split(x,y,test_size = .20)"
   ]
  },
  {
   "cell_type": "markdown",
   "id": "39da2204",
   "metadata": {
    "papermill": {
     "duration": 0.031213,
     "end_time": "2024-05-05T13:29:16.250337",
     "exception": false,
     "start_time": "2024-05-05T13:29:16.219124",
     "status": "completed"
    },
    "tags": []
   },
   "source": [
    "_______________\n",
    "<div style=\"color:white;\n",
    "           display:fill;\n",
    "           border-radius:5px;\n",
    "           background-color:#F7C7D7;\n",
    "           font-size:200%;\n",
    "           font-family:Serif;\n",
    "           letter-spacing:0.5px\">\n",
    "\n",
    "<p style=\"padding: 10px;\n",
    "          color:#23494F;\n",
    "          font-size:120%;\n",
    "          text-align:center;\">\n",
    "Building ML Models\n",
    "</p>\n",
    "</div>"
   ]
  },
  {
   "cell_type": "markdown",
   "id": "e06d9e59",
   "metadata": {
    "papermill": {
     "duration": 0.029555,
     "end_time": "2024-05-05T13:29:16.310012",
     "exception": false,
     "start_time": "2024-05-05T13:29:16.280457",
     "status": "completed"
    },
    "tags": []
   },
   "source": [
    "-----------------\n",
    "<div style=\"color:white;\n",
    "           display:fill;\n",
    "           border-radius:3px;\n",
    "           background-color:#570B0B;\n",
    "           font-size:200%;\n",
    "           font-family:Serif;\n",
    "           letter-spacing:0.5px\">\n",
    "\n",
    "<p style=\"padding: 4px;\n",
    "          color:white;\n",
    "          font-size:120%;\n",
    "          text-align:center;\">\n",
    "Decision Tree\n",
    "</p>\n",
    "</div>\n",
    "\n",
    "<div style=\"width:100%;text-align: center; background-color:#white;\"> <img align=middle src=\"https://brookewenig.com/img/DecisionTrees/ml-decision-tree.svg\" alt=\"Decision Tree\" >\n"
   ]
  },
  {
   "cell_type": "code",
   "execution_count": 38,
   "id": "acbfcbdc",
   "metadata": {
    "execution": {
     "iopub.execute_input": "2024-05-05T13:29:16.371465Z",
     "iopub.status.busy": "2024-05-05T13:29:16.371071Z",
     "iopub.status.idle": "2024-05-05T13:29:16.402912Z",
     "shell.execute_reply": "2024-05-05T13:29:16.401943Z"
    },
    "papermill": {
     "duration": 0.065037,
     "end_time": "2024-05-05T13:29:16.404953",
     "exception": false,
     "start_time": "2024-05-05T13:29:16.339916",
     "status": "completed"
    },
    "tags": []
   },
   "outputs": [
    {
     "data": {
      "text/html": [
       "<style>#sk-container-id-1 {color: black;background-color: white;}#sk-container-id-1 pre{padding: 0;}#sk-container-id-1 div.sk-toggleable {background-color: white;}#sk-container-id-1 label.sk-toggleable__label {cursor: pointer;display: block;width: 100%;margin-bottom: 0;padding: 0.3em;box-sizing: border-box;text-align: center;}#sk-container-id-1 label.sk-toggleable__label-arrow:before {content: \"▸\";float: left;margin-right: 0.25em;color: #696969;}#sk-container-id-1 label.sk-toggleable__label-arrow:hover:before {color: black;}#sk-container-id-1 div.sk-estimator:hover label.sk-toggleable__label-arrow:before {color: black;}#sk-container-id-1 div.sk-toggleable__content {max-height: 0;max-width: 0;overflow: hidden;text-align: left;background-color: #f0f8ff;}#sk-container-id-1 div.sk-toggleable__content pre {margin: 0.2em;color: black;border-radius: 0.25em;background-color: #f0f8ff;}#sk-container-id-1 input.sk-toggleable__control:checked~div.sk-toggleable__content {max-height: 200px;max-width: 100%;overflow: auto;}#sk-container-id-1 input.sk-toggleable__control:checked~label.sk-toggleable__label-arrow:before {content: \"▾\";}#sk-container-id-1 div.sk-estimator input.sk-toggleable__control:checked~label.sk-toggleable__label {background-color: #d4ebff;}#sk-container-id-1 div.sk-label input.sk-toggleable__control:checked~label.sk-toggleable__label {background-color: #d4ebff;}#sk-container-id-1 input.sk-hidden--visually {border: 0;clip: rect(1px 1px 1px 1px);clip: rect(1px, 1px, 1px, 1px);height: 1px;margin: -1px;overflow: hidden;padding: 0;position: absolute;width: 1px;}#sk-container-id-1 div.sk-estimator {font-family: monospace;background-color: #f0f8ff;border: 1px dotted black;border-radius: 0.25em;box-sizing: border-box;margin-bottom: 0.5em;}#sk-container-id-1 div.sk-estimator:hover {background-color: #d4ebff;}#sk-container-id-1 div.sk-parallel-item::after {content: \"\";width: 100%;border-bottom: 1px solid gray;flex-grow: 1;}#sk-container-id-1 div.sk-label:hover label.sk-toggleable__label {background-color: #d4ebff;}#sk-container-id-1 div.sk-serial::before {content: \"\";position: absolute;border-left: 1px solid gray;box-sizing: border-box;top: 0;bottom: 0;left: 50%;z-index: 0;}#sk-container-id-1 div.sk-serial {display: flex;flex-direction: column;align-items: center;background-color: white;padding-right: 0.2em;padding-left: 0.2em;position: relative;}#sk-container-id-1 div.sk-item {position: relative;z-index: 1;}#sk-container-id-1 div.sk-parallel {display: flex;align-items: stretch;justify-content: center;background-color: white;position: relative;}#sk-container-id-1 div.sk-item::before, #sk-container-id-1 div.sk-parallel-item::before {content: \"\";position: absolute;border-left: 1px solid gray;box-sizing: border-box;top: 0;bottom: 0;left: 50%;z-index: -1;}#sk-container-id-1 div.sk-parallel-item {display: flex;flex-direction: column;z-index: 1;position: relative;background-color: white;}#sk-container-id-1 div.sk-parallel-item:first-child::after {align-self: flex-end;width: 50%;}#sk-container-id-1 div.sk-parallel-item:last-child::after {align-self: flex-start;width: 50%;}#sk-container-id-1 div.sk-parallel-item:only-child::after {width: 0;}#sk-container-id-1 div.sk-dashed-wrapped {border: 1px dashed gray;margin: 0 0.4em 0.5em 0.4em;box-sizing: border-box;padding-bottom: 0.4em;background-color: white;}#sk-container-id-1 div.sk-label label {font-family: monospace;font-weight: bold;display: inline-block;line-height: 1.2em;}#sk-container-id-1 div.sk-label-container {text-align: center;}#sk-container-id-1 div.sk-container {/* jupyter's `normalize.less` sets `[hidden] { display: none; }` but bootstrap.min.css set `[hidden] { display: none !important; }` so we also need the `!important` here to be able to override the default hidden behavior on the sphinx rendered scikit-learn.org. See: https://github.com/scikit-learn/scikit-learn/issues/21755 */display: inline-block !important;position: relative;}#sk-container-id-1 div.sk-text-repr-fallback {display: none;}</style><div id=\"sk-container-id-1\" class=\"sk-top-container\"><div class=\"sk-text-repr-fallback\"><pre>DecisionTreeClassifier(criterion=&#x27;entropy&#x27;)</pre><b>In a Jupyter environment, please rerun this cell to show the HTML representation or trust the notebook. <br />On GitHub, the HTML representation is unable to render, please try loading this page with nbviewer.org.</b></div><div class=\"sk-container\" hidden><div class=\"sk-item\"><div class=\"sk-estimator sk-toggleable\"><input class=\"sk-toggleable__control sk-hidden--visually\" id=\"sk-estimator-id-1\" type=\"checkbox\" checked><label for=\"sk-estimator-id-1\" class=\"sk-toggleable__label sk-toggleable__label-arrow\">DecisionTreeClassifier</label><div class=\"sk-toggleable__content\"><pre>DecisionTreeClassifier(criterion=&#x27;entropy&#x27;)</pre></div></div></div></div></div>"
      ],
      "text/plain": [
       "DecisionTreeClassifier(criterion='entropy')"
      ]
     },
     "execution_count": 38,
     "metadata": {},
     "output_type": "execute_result"
    }
   ],
   "source": [
    "tree_model = DecisionTreeClassifier(criterion='entropy')\n",
    "tree_model.fit(x_train,y_train)"
   ]
  },
  {
   "cell_type": "code",
   "execution_count": 39,
   "id": "309d8897",
   "metadata": {
    "execution": {
     "iopub.execute_input": "2024-05-05T13:29:16.467500Z",
     "iopub.status.busy": "2024-05-05T13:29:16.467155Z",
     "iopub.status.idle": "2024-05-05T13:29:16.475182Z",
     "shell.execute_reply": "2024-05-05T13:29:16.474288Z"
    },
    "papermill": {
     "duration": 0.041334,
     "end_time": "2024-05-05T13:29:16.477327",
     "exception": false,
     "start_time": "2024-05-05T13:29:16.435993",
     "status": "completed"
    },
    "tags": []
   },
   "outputs": [
    {
     "data": {
      "text/plain": [
       "0.9775757575757575"
      ]
     },
     "execution_count": 39,
     "metadata": {},
     "output_type": "execute_result"
    }
   ],
   "source": [
    "y_pred = tree_model.predict(x_test)\n",
    "\n",
    "accuracy_score(y_test, y_pred)"
   ]
  },
  {
   "cell_type": "markdown",
   "id": "f6ff01a4",
   "metadata": {
    "papermill": {
     "duration": 0.030793,
     "end_time": "2024-05-05T13:29:16.538837",
     "exception": false,
     "start_time": "2024-05-05T13:29:16.508044",
     "status": "completed"
    },
    "tags": []
   },
   "source": [
    "<p style=\"padding: 10px;\n",
    "          color:#CE6666;\n",
    "          font-size:180%;\n",
    "          font-family:Serif;\n",
    "          text-align:center;\">   \n",
    "We Got [.98] test accuracy from Decision Tree Model\n",
    "     </p>"
   ]
  },
  {
   "cell_type": "markdown",
   "id": "1391dd41",
   "metadata": {
    "papermill": {
     "duration": 0.029498,
     "end_time": "2024-05-05T13:29:16.598227",
     "exception": false,
     "start_time": "2024-05-05T13:29:16.568729",
     "status": "completed"
    },
    "tags": []
   },
   "source": [
    "----------------\n",
    "<div style=\"color:white;\n",
    "           display:fill;\n",
    "           border-radius:3px;\n",
    "           background-color:#570B0B;\n",
    "           font-size:200%;\n",
    "           font-family:Serif;\n",
    "           letter-spacing:0.5px\">\n",
    "\n",
    "<p style=\"padding: 4px;\n",
    "          color:white;\n",
    "          font-size:120%;\n",
    "          text-align:center;\">\n",
    "Knearest Neighbor\n",
    "</p>\n",
    "</div>\n",
    "\n",
    "<div style=\"width:100%;text-align: center; background-color:#white;\"> <img align=middle src=\"https://upload.wikimedia.org/wikipedia/commons/thumb/e/e7/KnnClassification.svg/220px-KnnClassification.svg.png\" alt=\"Knearest Neighbor\" width=\"400\" height=\"250\" >"
   ]
  },
  {
   "cell_type": "code",
   "execution_count": 40,
   "id": "e8c4e950",
   "metadata": {
    "execution": {
     "iopub.execute_input": "2024-05-05T13:29:16.658929Z",
     "iopub.status.busy": "2024-05-05T13:29:16.658619Z",
     "iopub.status.idle": "2024-05-05T13:29:16.667717Z",
     "shell.execute_reply": "2024-05-05T13:29:16.666817Z"
    },
    "papermill": {
     "duration": 0.042117,
     "end_time": "2024-05-05T13:29:16.670008",
     "exception": false,
     "start_time": "2024-05-05T13:29:16.627891",
     "status": "completed"
    },
    "tags": []
   },
   "outputs": [
    {
     "data": {
      "text/html": [
       "<style>#sk-container-id-2 {color: black;background-color: white;}#sk-container-id-2 pre{padding: 0;}#sk-container-id-2 div.sk-toggleable {background-color: white;}#sk-container-id-2 label.sk-toggleable__label {cursor: pointer;display: block;width: 100%;margin-bottom: 0;padding: 0.3em;box-sizing: border-box;text-align: center;}#sk-container-id-2 label.sk-toggleable__label-arrow:before {content: \"▸\";float: left;margin-right: 0.25em;color: #696969;}#sk-container-id-2 label.sk-toggleable__label-arrow:hover:before {color: black;}#sk-container-id-2 div.sk-estimator:hover label.sk-toggleable__label-arrow:before {color: black;}#sk-container-id-2 div.sk-toggleable__content {max-height: 0;max-width: 0;overflow: hidden;text-align: left;background-color: #f0f8ff;}#sk-container-id-2 div.sk-toggleable__content pre {margin: 0.2em;color: black;border-radius: 0.25em;background-color: #f0f8ff;}#sk-container-id-2 input.sk-toggleable__control:checked~div.sk-toggleable__content {max-height: 200px;max-width: 100%;overflow: auto;}#sk-container-id-2 input.sk-toggleable__control:checked~label.sk-toggleable__label-arrow:before {content: \"▾\";}#sk-container-id-2 div.sk-estimator input.sk-toggleable__control:checked~label.sk-toggleable__label {background-color: #d4ebff;}#sk-container-id-2 div.sk-label input.sk-toggleable__control:checked~label.sk-toggleable__label {background-color: #d4ebff;}#sk-container-id-2 input.sk-hidden--visually {border: 0;clip: rect(1px 1px 1px 1px);clip: rect(1px, 1px, 1px, 1px);height: 1px;margin: -1px;overflow: hidden;padding: 0;position: absolute;width: 1px;}#sk-container-id-2 div.sk-estimator {font-family: monospace;background-color: #f0f8ff;border: 1px dotted black;border-radius: 0.25em;box-sizing: border-box;margin-bottom: 0.5em;}#sk-container-id-2 div.sk-estimator:hover {background-color: #d4ebff;}#sk-container-id-2 div.sk-parallel-item::after {content: \"\";width: 100%;border-bottom: 1px solid gray;flex-grow: 1;}#sk-container-id-2 div.sk-label:hover label.sk-toggleable__label {background-color: #d4ebff;}#sk-container-id-2 div.sk-serial::before {content: \"\";position: absolute;border-left: 1px solid gray;box-sizing: border-box;top: 0;bottom: 0;left: 50%;z-index: 0;}#sk-container-id-2 div.sk-serial {display: flex;flex-direction: column;align-items: center;background-color: white;padding-right: 0.2em;padding-left: 0.2em;position: relative;}#sk-container-id-2 div.sk-item {position: relative;z-index: 1;}#sk-container-id-2 div.sk-parallel {display: flex;align-items: stretch;justify-content: center;background-color: white;position: relative;}#sk-container-id-2 div.sk-item::before, #sk-container-id-2 div.sk-parallel-item::before {content: \"\";position: absolute;border-left: 1px solid gray;box-sizing: border-box;top: 0;bottom: 0;left: 50%;z-index: -1;}#sk-container-id-2 div.sk-parallel-item {display: flex;flex-direction: column;z-index: 1;position: relative;background-color: white;}#sk-container-id-2 div.sk-parallel-item:first-child::after {align-self: flex-end;width: 50%;}#sk-container-id-2 div.sk-parallel-item:last-child::after {align-self: flex-start;width: 50%;}#sk-container-id-2 div.sk-parallel-item:only-child::after {width: 0;}#sk-container-id-2 div.sk-dashed-wrapped {border: 1px dashed gray;margin: 0 0.4em 0.5em 0.4em;box-sizing: border-box;padding-bottom: 0.4em;background-color: white;}#sk-container-id-2 div.sk-label label {font-family: monospace;font-weight: bold;display: inline-block;line-height: 1.2em;}#sk-container-id-2 div.sk-label-container {text-align: center;}#sk-container-id-2 div.sk-container {/* jupyter's `normalize.less` sets `[hidden] { display: none; }` but bootstrap.min.css set `[hidden] { display: none !important; }` so we also need the `!important` here to be able to override the default hidden behavior on the sphinx rendered scikit-learn.org. See: https://github.com/scikit-learn/scikit-learn/issues/21755 */display: inline-block !important;position: relative;}#sk-container-id-2 div.sk-text-repr-fallback {display: none;}</style><div id=\"sk-container-id-2\" class=\"sk-top-container\"><div class=\"sk-text-repr-fallback\"><pre>KNeighborsClassifier(n_neighbors=3)</pre><b>In a Jupyter environment, please rerun this cell to show the HTML representation or trust the notebook. <br />On GitHub, the HTML representation is unable to render, please try loading this page with nbviewer.org.</b></div><div class=\"sk-container\" hidden><div class=\"sk-item\"><div class=\"sk-estimator sk-toggleable\"><input class=\"sk-toggleable__control sk-hidden--visually\" id=\"sk-estimator-id-2\" type=\"checkbox\" checked><label for=\"sk-estimator-id-2\" class=\"sk-toggleable__label sk-toggleable__label-arrow\">KNeighborsClassifier</label><div class=\"sk-toggleable__content\"><pre>KNeighborsClassifier(n_neighbors=3)</pre></div></div></div></div></div>"
      ],
      "text/plain": [
       "KNeighborsClassifier(n_neighbors=3)"
      ]
     },
     "execution_count": 40,
     "metadata": {},
     "output_type": "execute_result"
    }
   ],
   "source": [
    "knn = KNeighborsClassifier(n_neighbors=3)\n",
    "knn.fit(x_train,y_train)"
   ]
  },
  {
   "cell_type": "code",
   "execution_count": 41,
   "id": "f606dd8e",
   "metadata": {
    "execution": {
     "iopub.execute_input": "2024-05-05T13:29:16.732395Z",
     "iopub.status.busy": "2024-05-05T13:29:16.732100Z",
     "iopub.status.idle": "2024-05-05T13:29:16.894465Z",
     "shell.execute_reply": "2024-05-05T13:29:16.893398Z"
    },
    "papermill": {
     "duration": 0.194852,
     "end_time": "2024-05-05T13:29:16.896563",
     "exception": false,
     "start_time": "2024-05-05T13:29:16.701711",
     "status": "completed"
    },
    "tags": []
   },
   "outputs": [
    {
     "data": {
      "text/plain": [
       "0.9696969696969697"
      ]
     },
     "execution_count": 41,
     "metadata": {},
     "output_type": "execute_result"
    }
   ],
   "source": [
    "y_pred = knn.predict(x_test)\n",
    "accuracy_score(y_test,y_pred)"
   ]
  },
  {
   "cell_type": "markdown",
   "id": "eba82bc2",
   "metadata": {
    "papermill": {
     "duration": 0.032054,
     "end_time": "2024-05-05T13:29:16.960600",
     "exception": false,
     "start_time": "2024-05-05T13:29:16.928546",
     "status": "completed"
    },
    "tags": []
   },
   "source": [
    "<p style=\"padding: 10px;\n",
    "          color:#CE6666;\n",
    "          font-size:180%;\n",
    "          font-family:Serif;\n",
    "          text-align:center;\">   \n",
    "We Got [.97] test accuracy from KNN Model\n",
    "     </p>"
   ]
  },
  {
   "cell_type": "markdown",
   "id": "21bf222a",
   "metadata": {
    "papermill": {
     "duration": 0.030285,
     "end_time": "2024-05-05T13:29:17.020969",
     "exception": false,
     "start_time": "2024-05-05T13:29:16.990684",
     "status": "completed"
    },
    "tags": []
   },
   "source": [
    "-----------------\n",
    "<div style=\"color:white;\n",
    "           display:fill;\n",
    "           border-radius:3px;\n",
    "           background-color:#570B0B;\n",
    "           font-size:200%;\n",
    "           font-family:Serif;\n",
    "           letter-spacing:0.5px\">\n",
    "\n",
    "<p style=\"padding: 4px;\n",
    "          color:white;\n",
    "          font-size:120%;\n",
    "          text-align:center;\">\n",
    " Naïve Bayes \n",
    "</p>\n",
    "</div>\n",
    "\n",
    "<div style=\"width:100%;text-align: center; background-color:#white;\"> <img align=middle src=\"https://media.licdn.com/dms/image/D4E12AQEFlI6OZ4DcsQ/article-cover_image-shrink_600_2000/0/1665583775652?e=2147483647&v=beta&t=JMw-uu004Fv6NSahQ9mQ80zipjur1k1oB_BRGdW6Czg\" alt=\" Naïve Bayes \"width=\"500\" height=\"500\" >\n"
   ]
  },
  {
   "cell_type": "code",
   "execution_count": 42,
   "id": "0246da0a",
   "metadata": {
    "execution": {
     "iopub.execute_input": "2024-05-05T13:29:17.083745Z",
     "iopub.status.busy": "2024-05-05T13:29:17.083366Z",
     "iopub.status.idle": "2024-05-05T13:29:17.094391Z",
     "shell.execute_reply": "2024-05-05T13:29:17.093457Z"
    },
    "papermill": {
     "duration": 0.044584,
     "end_time": "2024-05-05T13:29:17.096416",
     "exception": false,
     "start_time": "2024-05-05T13:29:17.051832",
     "status": "completed"
    },
    "tags": []
   },
   "outputs": [
    {
     "data": {
      "text/html": [
       "<style>#sk-container-id-3 {color: black;background-color: white;}#sk-container-id-3 pre{padding: 0;}#sk-container-id-3 div.sk-toggleable {background-color: white;}#sk-container-id-3 label.sk-toggleable__label {cursor: pointer;display: block;width: 100%;margin-bottom: 0;padding: 0.3em;box-sizing: border-box;text-align: center;}#sk-container-id-3 label.sk-toggleable__label-arrow:before {content: \"▸\";float: left;margin-right: 0.25em;color: #696969;}#sk-container-id-3 label.sk-toggleable__label-arrow:hover:before {color: black;}#sk-container-id-3 div.sk-estimator:hover label.sk-toggleable__label-arrow:before {color: black;}#sk-container-id-3 div.sk-toggleable__content {max-height: 0;max-width: 0;overflow: hidden;text-align: left;background-color: #f0f8ff;}#sk-container-id-3 div.sk-toggleable__content pre {margin: 0.2em;color: black;border-radius: 0.25em;background-color: #f0f8ff;}#sk-container-id-3 input.sk-toggleable__control:checked~div.sk-toggleable__content {max-height: 200px;max-width: 100%;overflow: auto;}#sk-container-id-3 input.sk-toggleable__control:checked~label.sk-toggleable__label-arrow:before {content: \"▾\";}#sk-container-id-3 div.sk-estimator input.sk-toggleable__control:checked~label.sk-toggleable__label {background-color: #d4ebff;}#sk-container-id-3 div.sk-label input.sk-toggleable__control:checked~label.sk-toggleable__label {background-color: #d4ebff;}#sk-container-id-3 input.sk-hidden--visually {border: 0;clip: rect(1px 1px 1px 1px);clip: rect(1px, 1px, 1px, 1px);height: 1px;margin: -1px;overflow: hidden;padding: 0;position: absolute;width: 1px;}#sk-container-id-3 div.sk-estimator {font-family: monospace;background-color: #f0f8ff;border: 1px dotted black;border-radius: 0.25em;box-sizing: border-box;margin-bottom: 0.5em;}#sk-container-id-3 div.sk-estimator:hover {background-color: #d4ebff;}#sk-container-id-3 div.sk-parallel-item::after {content: \"\";width: 100%;border-bottom: 1px solid gray;flex-grow: 1;}#sk-container-id-3 div.sk-label:hover label.sk-toggleable__label {background-color: #d4ebff;}#sk-container-id-3 div.sk-serial::before {content: \"\";position: absolute;border-left: 1px solid gray;box-sizing: border-box;top: 0;bottom: 0;left: 50%;z-index: 0;}#sk-container-id-3 div.sk-serial {display: flex;flex-direction: column;align-items: center;background-color: white;padding-right: 0.2em;padding-left: 0.2em;position: relative;}#sk-container-id-3 div.sk-item {position: relative;z-index: 1;}#sk-container-id-3 div.sk-parallel {display: flex;align-items: stretch;justify-content: center;background-color: white;position: relative;}#sk-container-id-3 div.sk-item::before, #sk-container-id-3 div.sk-parallel-item::before {content: \"\";position: absolute;border-left: 1px solid gray;box-sizing: border-box;top: 0;bottom: 0;left: 50%;z-index: -1;}#sk-container-id-3 div.sk-parallel-item {display: flex;flex-direction: column;z-index: 1;position: relative;background-color: white;}#sk-container-id-3 div.sk-parallel-item:first-child::after {align-self: flex-end;width: 50%;}#sk-container-id-3 div.sk-parallel-item:last-child::after {align-self: flex-start;width: 50%;}#sk-container-id-3 div.sk-parallel-item:only-child::after {width: 0;}#sk-container-id-3 div.sk-dashed-wrapped {border: 1px dashed gray;margin: 0 0.4em 0.5em 0.4em;box-sizing: border-box;padding-bottom: 0.4em;background-color: white;}#sk-container-id-3 div.sk-label label {font-family: monospace;font-weight: bold;display: inline-block;line-height: 1.2em;}#sk-container-id-3 div.sk-label-container {text-align: center;}#sk-container-id-3 div.sk-container {/* jupyter's `normalize.less` sets `[hidden] { display: none; }` but bootstrap.min.css set `[hidden] { display: none !important; }` so we also need the `!important` here to be able to override the default hidden behavior on the sphinx rendered scikit-learn.org. See: https://github.com/scikit-learn/scikit-learn/issues/21755 */display: inline-block !important;position: relative;}#sk-container-id-3 div.sk-text-repr-fallback {display: none;}</style><div id=\"sk-container-id-3\" class=\"sk-top-container\"><div class=\"sk-text-repr-fallback\"><pre>GaussianNB()</pre><b>In a Jupyter environment, please rerun this cell to show the HTML representation or trust the notebook. <br />On GitHub, the HTML representation is unable to render, please try loading this page with nbviewer.org.</b></div><div class=\"sk-container\" hidden><div class=\"sk-item\"><div class=\"sk-estimator sk-toggleable\"><input class=\"sk-toggleable__control sk-hidden--visually\" id=\"sk-estimator-id-3\" type=\"checkbox\" checked><label for=\"sk-estimator-id-3\" class=\"sk-toggleable__label sk-toggleable__label-arrow\">GaussianNB</label><div class=\"sk-toggleable__content\"><pre>GaussianNB()</pre></div></div></div></div></div>"
      ],
      "text/plain": [
       "GaussianNB()"
      ]
     },
     "execution_count": 42,
     "metadata": {},
     "output_type": "execute_result"
    }
   ],
   "source": [
    "NB_model = GaussianNB()\n",
    "NB_model.fit(x_train , y_train)"
   ]
  },
  {
   "cell_type": "code",
   "execution_count": 43,
   "id": "062c987c",
   "metadata": {
    "execution": {
     "iopub.execute_input": "2024-05-05T13:29:17.160531Z",
     "iopub.status.busy": "2024-05-05T13:29:17.160205Z",
     "iopub.status.idle": "2024-05-05T13:29:17.169220Z",
     "shell.execute_reply": "2024-05-05T13:29:17.168487Z"
    },
    "papermill": {
     "duration": 0.043495,
     "end_time": "2024-05-05T13:29:17.171216",
     "exception": false,
     "start_time": "2024-05-05T13:29:17.127721",
     "status": "completed"
    },
    "tags": []
   },
   "outputs": [
    {
     "data": {
      "text/plain": [
       "0.5678787878787879"
      ]
     },
     "execution_count": 43,
     "metadata": {},
     "output_type": "execute_result"
    }
   ],
   "source": [
    "y_pred = NB_model.predict(x_test)\n",
    "accuracy_score(y_test,y_pred)"
   ]
  },
  {
   "cell_type": "markdown",
   "id": "d10bf7b0",
   "metadata": {
    "papermill": {
     "duration": 0.030718,
     "end_time": "2024-05-05T13:29:17.232604",
     "exception": false,
     "start_time": "2024-05-05T13:29:17.201886",
     "status": "completed"
    },
    "tags": []
   },
   "source": [
    "<p style=\"padding: 10px;\n",
    "          color:#CE6666;\n",
    "          font-size:180%;\n",
    "          font-family:Serif;\n",
    "          text-align:center;\">   \n",
    "We Got very weak test accuracy from Naïve Bayes Model\n",
    "     </p>"
   ]
  },
  {
   "cell_type": "markdown",
   "id": "4a58ffcb",
   "metadata": {
    "papermill": {
     "duration": 0.030898,
     "end_time": "2024-05-05T13:29:17.295827",
     "exception": false,
     "start_time": "2024-05-05T13:29:17.264929",
     "status": "completed"
    },
    "tags": []
   },
   "source": [
    "\n",
    "-----------------\n",
    "<div style=\"color:white;\n",
    "           display:fill;\n",
    "           border-radius:3px;\n",
    "           background-color:#570B0B;\n",
    "           font-size:200%;\n",
    "           font-family:Serif;\n",
    "           letter-spacing:0.5px\">\n",
    "\n",
    "<p style=\"padding: 4px;\n",
    "          color:white;\n",
    "          font-size:120%;\n",
    "          text-align:center;\">\n",
    "SVC [Support Vector Classifier]\n",
    "</p>\n",
    "</div>\n",
    "\n",
    "<div style=\"width:100%;text-align: center; background-color:#white;\"> <img align=middle src=\"https://velog.velcdn.com/images/shlee0125/post/cc79313d-5a9c-406e-a9a6-45c5d9292e2f/image.png\" alt=\" SVC \"width=\"550\" height=\"550\" >\n"
   ]
  },
  {
   "cell_type": "code",
   "execution_count": 44,
   "id": "6e9da20b",
   "metadata": {
    "execution": {
     "iopub.execute_input": "2024-05-05T13:29:17.361264Z",
     "iopub.status.busy": "2024-05-05T13:29:17.360317Z",
     "iopub.status.idle": "2024-05-05T13:29:18.465534Z",
     "shell.execute_reply": "2024-05-05T13:29:18.464519Z"
    },
    "papermill": {
     "duration": 1.140904,
     "end_time": "2024-05-05T13:29:18.467940",
     "exception": false,
     "start_time": "2024-05-05T13:29:17.327036",
     "status": "completed"
    },
    "tags": []
   },
   "outputs": [
    {
     "data": {
      "text/html": [
       "<style>#sk-container-id-4 {color: black;background-color: white;}#sk-container-id-4 pre{padding: 0;}#sk-container-id-4 div.sk-toggleable {background-color: white;}#sk-container-id-4 label.sk-toggleable__label {cursor: pointer;display: block;width: 100%;margin-bottom: 0;padding: 0.3em;box-sizing: border-box;text-align: center;}#sk-container-id-4 label.sk-toggleable__label-arrow:before {content: \"▸\";float: left;margin-right: 0.25em;color: #696969;}#sk-container-id-4 label.sk-toggleable__label-arrow:hover:before {color: black;}#sk-container-id-4 div.sk-estimator:hover label.sk-toggleable__label-arrow:before {color: black;}#sk-container-id-4 div.sk-toggleable__content {max-height: 0;max-width: 0;overflow: hidden;text-align: left;background-color: #f0f8ff;}#sk-container-id-4 div.sk-toggleable__content pre {margin: 0.2em;color: black;border-radius: 0.25em;background-color: #f0f8ff;}#sk-container-id-4 input.sk-toggleable__control:checked~div.sk-toggleable__content {max-height: 200px;max-width: 100%;overflow: auto;}#sk-container-id-4 input.sk-toggleable__control:checked~label.sk-toggleable__label-arrow:before {content: \"▾\";}#sk-container-id-4 div.sk-estimator input.sk-toggleable__control:checked~label.sk-toggleable__label {background-color: #d4ebff;}#sk-container-id-4 div.sk-label input.sk-toggleable__control:checked~label.sk-toggleable__label {background-color: #d4ebff;}#sk-container-id-4 input.sk-hidden--visually {border: 0;clip: rect(1px 1px 1px 1px);clip: rect(1px, 1px, 1px, 1px);height: 1px;margin: -1px;overflow: hidden;padding: 0;position: absolute;width: 1px;}#sk-container-id-4 div.sk-estimator {font-family: monospace;background-color: #f0f8ff;border: 1px dotted black;border-radius: 0.25em;box-sizing: border-box;margin-bottom: 0.5em;}#sk-container-id-4 div.sk-estimator:hover {background-color: #d4ebff;}#sk-container-id-4 div.sk-parallel-item::after {content: \"\";width: 100%;border-bottom: 1px solid gray;flex-grow: 1;}#sk-container-id-4 div.sk-label:hover label.sk-toggleable__label {background-color: #d4ebff;}#sk-container-id-4 div.sk-serial::before {content: \"\";position: absolute;border-left: 1px solid gray;box-sizing: border-box;top: 0;bottom: 0;left: 50%;z-index: 0;}#sk-container-id-4 div.sk-serial {display: flex;flex-direction: column;align-items: center;background-color: white;padding-right: 0.2em;padding-left: 0.2em;position: relative;}#sk-container-id-4 div.sk-item {position: relative;z-index: 1;}#sk-container-id-4 div.sk-parallel {display: flex;align-items: stretch;justify-content: center;background-color: white;position: relative;}#sk-container-id-4 div.sk-item::before, #sk-container-id-4 div.sk-parallel-item::before {content: \"\";position: absolute;border-left: 1px solid gray;box-sizing: border-box;top: 0;bottom: 0;left: 50%;z-index: -1;}#sk-container-id-4 div.sk-parallel-item {display: flex;flex-direction: column;z-index: 1;position: relative;background-color: white;}#sk-container-id-4 div.sk-parallel-item:first-child::after {align-self: flex-end;width: 50%;}#sk-container-id-4 div.sk-parallel-item:last-child::after {align-self: flex-start;width: 50%;}#sk-container-id-4 div.sk-parallel-item:only-child::after {width: 0;}#sk-container-id-4 div.sk-dashed-wrapped {border: 1px dashed gray;margin: 0 0.4em 0.5em 0.4em;box-sizing: border-box;padding-bottom: 0.4em;background-color: white;}#sk-container-id-4 div.sk-label label {font-family: monospace;font-weight: bold;display: inline-block;line-height: 1.2em;}#sk-container-id-4 div.sk-label-container {text-align: center;}#sk-container-id-4 div.sk-container {/* jupyter's `normalize.less` sets `[hidden] { display: none; }` but bootstrap.min.css set `[hidden] { display: none !important; }` so we also need the `!important` here to be able to override the default hidden behavior on the sphinx rendered scikit-learn.org. See: https://github.com/scikit-learn/scikit-learn/issues/21755 */display: inline-block !important;position: relative;}#sk-container-id-4 div.sk-text-repr-fallback {display: none;}</style><div id=\"sk-container-id-4\" class=\"sk-top-container\"><div class=\"sk-text-repr-fallback\"><pre>SVC()</pre><b>In a Jupyter environment, please rerun this cell to show the HTML representation or trust the notebook. <br />On GitHub, the HTML representation is unable to render, please try loading this page with nbviewer.org.</b></div><div class=\"sk-container\" hidden><div class=\"sk-item\"><div class=\"sk-estimator sk-toggleable\"><input class=\"sk-toggleable__control sk-hidden--visually\" id=\"sk-estimator-id-4\" type=\"checkbox\" checked><label for=\"sk-estimator-id-4\" class=\"sk-toggleable__label sk-toggleable__label-arrow\">SVC</label><div class=\"sk-toggleable__content\"><pre>SVC()</pre></div></div></div></div></div>"
      ],
      "text/plain": [
       "SVC()"
      ]
     },
     "execution_count": 44,
     "metadata": {},
     "output_type": "execute_result"
    }
   ],
   "source": [
    "svm = SVC()\n",
    "svm.fit(x_train , y_train)"
   ]
  },
  {
   "cell_type": "code",
   "execution_count": 45,
   "id": "146ff65b",
   "metadata": {
    "execution": {
     "iopub.execute_input": "2024-05-05T13:29:18.538479Z",
     "iopub.status.busy": "2024-05-05T13:29:18.538120Z",
     "iopub.status.idle": "2024-05-05T13:29:18.770412Z",
     "shell.execute_reply": "2024-05-05T13:29:18.769488Z"
    },
    "papermill": {
     "duration": 0.268174,
     "end_time": "2024-05-05T13:29:18.772229",
     "exception": false,
     "start_time": "2024-05-05T13:29:18.504055",
     "status": "completed"
    },
    "tags": []
   },
   "outputs": [
    {
     "data": {
      "text/plain": [
       "0.8739393939393939"
      ]
     },
     "execution_count": 45,
     "metadata": {},
     "output_type": "execute_result"
    }
   ],
   "source": [
    "y_pred = svm.predict(x_test)\n",
    "accuracy_score(y_test,y_pred)"
   ]
  },
  {
   "cell_type": "markdown",
   "id": "8b5f823d",
   "metadata": {
    "papermill": {
     "duration": 0.030883,
     "end_time": "2024-05-05T13:29:18.834198",
     "exception": false,
     "start_time": "2024-05-05T13:29:18.803315",
     "status": "completed"
    },
    "tags": []
   },
   "source": [
    "<p style=\"padding: 10px;\n",
    "          color:#CE6666;\n",
    "          font-size:180%;\n",
    "          font-family:Serif;\n",
    "          text-align:center;\">   \n",
    "We Got [.88] test accuracy from Support Vector Model\n",
    "     </p>"
   ]
  },
  {
   "cell_type": "markdown",
   "id": "5d08ef4d",
   "metadata": {
    "papermill": {
     "duration": 0.031105,
     "end_time": "2024-05-05T13:29:18.896623",
     "exception": false,
     "start_time": "2024-05-05T13:29:18.865518",
     "status": "completed"
    },
    "tags": []
   },
   "source": [
    "\n",
    "----------------\n",
    "<div style=\"color:white;\n",
    "           display:fill;\n",
    "           border-radius:3px;\n",
    "           background-color:#570B0B;\n",
    "           font-size:200%;\n",
    "           font-family:Serif;\n",
    "           letter-spacing:0.5px\">\n",
    "\n",
    "<p style=\"padding: 4px;\n",
    "          color:white;\n",
    "          font-size:120%;\n",
    "          text-align:center;\">\n",
    "Logistic Regression\n",
    "</p>\n",
    "</div>\n",
    "\n",
    "<div style=\"width:100%;text-align: center; background-color:#white;\"> <img align=middle src=\"https://www.dataschool.io/content/images/2021/02/logistic_regression.png\" alt=\" Logistic Regression \"width=\"550\" height=\"550\" >\n"
   ]
  },
  {
   "cell_type": "code",
   "execution_count": 46,
   "id": "6a8df056",
   "metadata": {
    "execution": {
     "iopub.execute_input": "2024-05-05T13:29:18.960325Z",
     "iopub.status.busy": "2024-05-05T13:29:18.959961Z",
     "iopub.status.idle": "2024-05-05T13:29:19.007185Z",
     "shell.execute_reply": "2024-05-05T13:29:19.006026Z"
    },
    "papermill": {
     "duration": 0.083196,
     "end_time": "2024-05-05T13:29:19.010675",
     "exception": false,
     "start_time": "2024-05-05T13:29:18.927479",
     "status": "completed"
    },
    "tags": []
   },
   "outputs": [
    {
     "data": {
      "text/html": [
       "<style>#sk-container-id-5 {color: black;background-color: white;}#sk-container-id-5 pre{padding: 0;}#sk-container-id-5 div.sk-toggleable {background-color: white;}#sk-container-id-5 label.sk-toggleable__label {cursor: pointer;display: block;width: 100%;margin-bottom: 0;padding: 0.3em;box-sizing: border-box;text-align: center;}#sk-container-id-5 label.sk-toggleable__label-arrow:before {content: \"▸\";float: left;margin-right: 0.25em;color: #696969;}#sk-container-id-5 label.sk-toggleable__label-arrow:hover:before {color: black;}#sk-container-id-5 div.sk-estimator:hover label.sk-toggleable__label-arrow:before {color: black;}#sk-container-id-5 div.sk-toggleable__content {max-height: 0;max-width: 0;overflow: hidden;text-align: left;background-color: #f0f8ff;}#sk-container-id-5 div.sk-toggleable__content pre {margin: 0.2em;color: black;border-radius: 0.25em;background-color: #f0f8ff;}#sk-container-id-5 input.sk-toggleable__control:checked~div.sk-toggleable__content {max-height: 200px;max-width: 100%;overflow: auto;}#sk-container-id-5 input.sk-toggleable__control:checked~label.sk-toggleable__label-arrow:before {content: \"▾\";}#sk-container-id-5 div.sk-estimator input.sk-toggleable__control:checked~label.sk-toggleable__label {background-color: #d4ebff;}#sk-container-id-5 div.sk-label input.sk-toggleable__control:checked~label.sk-toggleable__label {background-color: #d4ebff;}#sk-container-id-5 input.sk-hidden--visually {border: 0;clip: rect(1px 1px 1px 1px);clip: rect(1px, 1px, 1px, 1px);height: 1px;margin: -1px;overflow: hidden;padding: 0;position: absolute;width: 1px;}#sk-container-id-5 div.sk-estimator {font-family: monospace;background-color: #f0f8ff;border: 1px dotted black;border-radius: 0.25em;box-sizing: border-box;margin-bottom: 0.5em;}#sk-container-id-5 div.sk-estimator:hover {background-color: #d4ebff;}#sk-container-id-5 div.sk-parallel-item::after {content: \"\";width: 100%;border-bottom: 1px solid gray;flex-grow: 1;}#sk-container-id-5 div.sk-label:hover label.sk-toggleable__label {background-color: #d4ebff;}#sk-container-id-5 div.sk-serial::before {content: \"\";position: absolute;border-left: 1px solid gray;box-sizing: border-box;top: 0;bottom: 0;left: 50%;z-index: 0;}#sk-container-id-5 div.sk-serial {display: flex;flex-direction: column;align-items: center;background-color: white;padding-right: 0.2em;padding-left: 0.2em;position: relative;}#sk-container-id-5 div.sk-item {position: relative;z-index: 1;}#sk-container-id-5 div.sk-parallel {display: flex;align-items: stretch;justify-content: center;background-color: white;position: relative;}#sk-container-id-5 div.sk-item::before, #sk-container-id-5 div.sk-parallel-item::before {content: \"\";position: absolute;border-left: 1px solid gray;box-sizing: border-box;top: 0;bottom: 0;left: 50%;z-index: -1;}#sk-container-id-5 div.sk-parallel-item {display: flex;flex-direction: column;z-index: 1;position: relative;background-color: white;}#sk-container-id-5 div.sk-parallel-item:first-child::after {align-self: flex-end;width: 50%;}#sk-container-id-5 div.sk-parallel-item:last-child::after {align-self: flex-start;width: 50%;}#sk-container-id-5 div.sk-parallel-item:only-child::after {width: 0;}#sk-container-id-5 div.sk-dashed-wrapped {border: 1px dashed gray;margin: 0 0.4em 0.5em 0.4em;box-sizing: border-box;padding-bottom: 0.4em;background-color: white;}#sk-container-id-5 div.sk-label label {font-family: monospace;font-weight: bold;display: inline-block;line-height: 1.2em;}#sk-container-id-5 div.sk-label-container {text-align: center;}#sk-container-id-5 div.sk-container {/* jupyter's `normalize.less` sets `[hidden] { display: none; }` but bootstrap.min.css set `[hidden] { display: none !important; }` so we also need the `!important` here to be able to override the default hidden behavior on the sphinx rendered scikit-learn.org. See: https://github.com/scikit-learn/scikit-learn/issues/21755 */display: inline-block !important;position: relative;}#sk-container-id-5 div.sk-text-repr-fallback {display: none;}</style><div id=\"sk-container-id-5\" class=\"sk-top-container\"><div class=\"sk-text-repr-fallback\"><pre>LogisticRegression()</pre><b>In a Jupyter environment, please rerun this cell to show the HTML representation or trust the notebook. <br />On GitHub, the HTML representation is unable to render, please try loading this page with nbviewer.org.</b></div><div class=\"sk-container\" hidden><div class=\"sk-item\"><div class=\"sk-estimator sk-toggleable\"><input class=\"sk-toggleable__control sk-hidden--visually\" id=\"sk-estimator-id-5\" type=\"checkbox\" checked><label for=\"sk-estimator-id-5\" class=\"sk-toggleable__label sk-toggleable__label-arrow\">LogisticRegression</label><div class=\"sk-toggleable__content\"><pre>LogisticRegression()</pre></div></div></div></div></div>"
      ],
      "text/plain": [
       "LogisticRegression()"
      ]
     },
     "execution_count": 46,
     "metadata": {},
     "output_type": "execute_result"
    }
   ],
   "source": [
    "lr_model = LogisticRegression()\n",
    "lr_model.fit(x_train,y_train)"
   ]
  },
  {
   "cell_type": "code",
   "execution_count": 47,
   "id": "4518c4f2",
   "metadata": {
    "execution": {
     "iopub.execute_input": "2024-05-05T13:29:19.144385Z",
     "iopub.status.busy": "2024-05-05T13:29:19.143611Z",
     "iopub.status.idle": "2024-05-05T13:29:19.157396Z",
     "shell.execute_reply": "2024-05-05T13:29:19.156276Z"
    },
    "papermill": {
     "duration": 0.076185,
     "end_time": "2024-05-05T13:29:19.160577",
     "exception": false,
     "start_time": "2024-05-05T13:29:19.084392",
     "status": "completed"
    },
    "tags": []
   },
   "outputs": [
    {
     "data": {
      "text/plain": [
       "0.756969696969697"
      ]
     },
     "execution_count": 47,
     "metadata": {},
     "output_type": "execute_result"
    }
   ],
   "source": [
    "y_pred = lr_model.predict(x_test)\n",
    "accuracy_score(y_test,y_pred)"
   ]
  },
  {
   "cell_type": "markdown",
   "id": "91d97d18",
   "metadata": {
    "papermill": {
     "duration": 0.061006,
     "end_time": "2024-05-05T13:29:19.292163",
     "exception": false,
     "start_time": "2024-05-05T13:29:19.231157",
     "status": "completed"
    },
    "tags": []
   },
   "source": [
    "<p style=\"padding: 10px;\n",
    "          color:#CE6666;\n",
    "          font-size:180%;\n",
    "          font-family:Serif;\n",
    "          text-align:center;\">   \n",
    "We Got a weak test accuracy from Logistic Regression Model\n",
    "     </p>"
   ]
  },
  {
   "cell_type": "markdown",
   "id": "44ea1a52",
   "metadata": {
    "papermill": {
     "duration": 0.036972,
     "end_time": "2024-05-05T13:29:19.368793",
     "exception": false,
     "start_time": "2024-05-05T13:29:19.331821",
     "status": "completed"
    },
    "tags": []
   },
   "source": [
    "--------------------------\n",
    "<a id='top'></a>\n",
    "<div class=\"list-group\" id=\"list-tab\" role=\"tablist\">\n",
    "<p style=\"background-color:#570B0B ;font-family:newtimeroman;color:white;font-size:300%;text-align:center;border-radius:60px 1px;\">  Performance Comparison  </p>"
   ]
  },
  {
   "cell_type": "code",
   "execution_count": 48,
   "id": "ec5e8d6d",
   "metadata": {
    "execution": {
     "iopub.execute_input": "2024-05-05T13:29:19.433935Z",
     "iopub.status.busy": "2024-05-05T13:29:19.433194Z",
     "iopub.status.idle": "2024-05-05T13:29:19.439106Z",
     "shell.execute_reply": "2024-05-05T13:29:19.438151Z"
    },
    "papermill": {
     "duration": 0.040747,
     "end_time": "2024-05-05T13:29:19.441258",
     "exception": false,
     "start_time": "2024-05-05T13:29:19.400511",
     "status": "completed"
    },
    "tags": []
   },
   "outputs": [],
   "source": [
    "performance = {\"Model\" :[\"Decision Tree\" , \"K-nearist Neighbour\", \"SVC\", \"Logistic Regression\" ,\"Naïve Bayes\"],\n",
    "               \"performance\" : [0.98  ,0.97   ,0.88 ,0.77,0.58]}\n",
    "\n",
    "performance = pd.DataFrame(performance)"
   ]
  },
  {
   "cell_type": "code",
   "execution_count": 49,
   "id": "786a1b4b",
   "metadata": {
    "execution": {
     "iopub.execute_input": "2024-05-05T13:29:19.504514Z",
     "iopub.status.busy": "2024-05-05T13:29:19.504226Z",
     "iopub.status.idle": "2024-05-05T13:29:19.782422Z",
     "shell.execute_reply": "2024-05-05T13:29:19.781377Z"
    },
    "papermill": {
     "duration": 0.312595,
     "end_time": "2024-05-05T13:29:19.784717",
     "exception": false,
     "start_time": "2024-05-05T13:29:19.472122",
     "status": "completed"
    },
    "tags": []
   },
   "outputs": [
    {
     "data": {
      "text/plain": [
       "<Axes: xlabel='Model', ylabel='performance'>"
      ]
     },
     "execution_count": 49,
     "metadata": {},
     "output_type": "execute_result"
    },
    {
     "data": {
      "image/png": "[encoded data removed]",
      "text/plain": [
       "<Figure size 800x400 with 1 Axes>"
      ]
     },
     "metadata": {},
     "output_type": "display_data"
    }
   ],
   "source": [
    "plt.figure(figsize=(8,4))\n",
    "sns.barplot(data = performance , x = \"Model\" , y = \"performance\" ,palette=\"dark:salmon_r\")"
   ]
  },
  {
   "cell_type": "code",
   "execution_count": null,
   "id": "c49a85f8",
   "metadata": {
    "papermill": {
     "duration": 0.031764,
     "end_time": "2024-05-05T13:29:19.849588",
     "exception": false,
     "start_time": "2024-05-05T13:29:19.817824",
     "status": "completed"
    },
    "tags": []
   },
   "outputs": [],
   "source": []
  },
  {
   "cell_type": "code",
   "execution_count": null,
   "id": "659071ea",
   "metadata": {
    "papermill": {
     "duration": 0.033475,
     "end_time": "2024-05-05T13:29:19.924514",
     "exception": false,
     "start_time": "2024-05-05T13:29:19.891039",
     "status": "completed"
    },
    "tags": []
   },
   "outputs": [],
   "source": []
  }
 ],
 "metadata": {
  "kaggle": {
   "accelerator": "nvidiaTeslaT4",
   "dataSources": [
    {
     "datasetId": 1120859,
     "sourceId": 1882037,
     "sourceType": "datasetVersion"
    }
   ],
   "dockerImageVersionId": 30512,
   "isGpuEnabled": true,
   "isInternetEnabled": true,
   "language": "python",
   "sourceType": "notebook"
  },
  "kernelspec": {
   "display_name": "Python 3",
   "language": "python",
   "name": "python3"
  },
  "language_info": {
   "codemirror_mode": {
    "name": "ipython",
    "version": 3
   },
   "file_extension": ".py",
   "mimetype": "text/x-python",
   "name": "python",
   "nbconvert_exporter": "python",
   "pygments_lexer": "ipython3",
   "version": "3.10.10"
  },
  "papermill": {
   "default_parameters": {},
   "duration": 28.459131,
   "end_time": "2024-05-05T13:29:20.777003",
   "environment_variables": {},
   "exception": null,
   "input_path": "__notebook__.ipynb",
   "output_path": "__notebook__.ipynb",
   "parameters": {},
   "start_time": "2024-05-05T13:28:52.317872",
   "version": "2.4.0"
  }
 },
 "nbformat": 4,
 "nbformat_minor": 5
}
